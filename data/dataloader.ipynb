{
 "cells": [
  {
   "cell_type": "code",
   "execution_count": 40,
   "metadata": {},
   "outputs": [],
   "source": [
    "import pandas as pd\n",
    "import numpy as np\n",
    "import torch\n",
    "import torch.nn.functional as F\n",
    "from torch.utils.data import Dataset, DataLoader\n",
    "\n",
    "from sklearn.model_selection import train_test_split\n",
    "\n",
    "\n",
    "import matplotlib.pyplot as plt\n",
    "import seaborn as sns\n",
    "\n",
    "plt.style.use(\"ggplot\")\n",
    "import catboost as ctb\n"
   ]
  },
  {
   "cell_type": "code",
   "execution_count": 41,
   "metadata": {},
   "outputs": [],
   "source": [
    "path = \"/Users/taehoon/Documents/dacon_movies/data/data/\"\n",
    "\n",
    "train = pd.read_csv(path+\"movies_train.csv\")\n",
    "test = pd.read_csv(path+\"movies_test.csv\")\n"
   ]
  },
  {
   "cell_type": "code",
   "execution_count": 42,
   "metadata": {},
   "outputs": [],
   "source": [
    "class MoviesDataset(Dataset):\n",
    "    def __init__(self, path=path):\n",
    "        # preprocessing\n",
    "        self.path = path\n",
    "        self.train_data = pd.read_csv(self.path+\"movies_train.csv\")\n",
    "        self.y = self.train_data[\"box_off_num\"]\n",
    "        self.x = self.train_data.drop(\"box_off_num\", axis=1)\n",
    "        self.feature_names = self.x.columns\n",
    "    \n",
    "    def __len__(self):\n",
    "        # return length\n",
    "        return len(self.x)\n",
    "    \n",
    "\n",
    "    def __getitem__(self, idx):\n",
    "        return torch.FloatTensor(self.x.iloc[idx]),torch.FloatTensor(self.y.iloc[idx])"
   ]
  },
  {
   "cell_type": "code",
   "execution_count": 43,
   "metadata": {},
   "outputs": [
    {
     "ename": "TypeError",
     "evalue": "Instance and class checks can only be used with @runtime_checkable protocols",
     "output_type": "error",
     "traceback": [
      "\u001b[0;31m---------------------------------------------------------------------------\u001b[0m",
      "\u001b[0;31mTypeError\u001b[0m                                 Traceback (most recent call last)",
      "\u001b[1;32m/Users/taehoon/Documents/dacon_movies/data/data/dataloader.ipynb 셀 4\u001b[0m in \u001b[0;36m<cell line: 2>\u001b[0;34m()\u001b[0m\n\u001b[1;32m      <a href='vscode-notebook-cell:/Users/taehoon/Documents/dacon_movies/data/data/dataloader.ipynb#W5sZmlsZQ%3D%3D?line=0'>1</a>\u001b[0m dataset \u001b[39m=\u001b[39m MoviesDataset()\n\u001b[0;32m----> <a href='vscode-notebook-cell:/Users/taehoon/Documents/dacon_movies/data/data/dataloader.ipynb#W5sZmlsZQ%3D%3D?line=1'>2</a>\u001b[0m dataloader \u001b[39m=\u001b[39m DataLoader(dataset, batch_size\u001b[39m=\u001b[39;49m\u001b[39m1\u001b[39;49m, shuffle\u001b[39m=\u001b[39;49m\u001b[39mTrue\u001b[39;49;00m)\n",
      "File \u001b[0;32m~/miniconda3/envs/level1/lib/python3.10/site-packages/torch/utils/data/dataloader.py:200\u001b[0m, in \u001b[0;36mDataLoader.__init__\u001b[0;34m(self, dataset, batch_size, shuffle, sampler, batch_sampler, num_workers, collate_fn, pin_memory, drop_last, timeout, worker_init_fn, multiprocessing_context, generator, prefetch_factor, persistent_workers)\u001b[0m\n\u001b[1;32m    194\u001b[0m \u001b[39mself\u001b[39m\u001b[39m.\u001b[39mmultiprocessing_context \u001b[39m=\u001b[39m multiprocessing_context\n\u001b[1;32m    196\u001b[0m \u001b[39m# Arg-check dataset related before checking samplers because we want to\u001b[39;00m\n\u001b[1;32m    197\u001b[0m \u001b[39m# tell users that iterable-style datasets are incompatible with custom\u001b[39;00m\n\u001b[1;32m    198\u001b[0m \u001b[39m# samplers first, so that they don't learn that this combo doesn't work\u001b[39;00m\n\u001b[1;32m    199\u001b[0m \u001b[39m# after spending time fixing the custom sampler errors.\u001b[39;00m\n\u001b[0;32m--> 200\u001b[0m \u001b[39mif\u001b[39;00m \u001b[39misinstance\u001b[39;49m(dataset, IterableDataset):\n\u001b[1;32m    201\u001b[0m     \u001b[39mself\u001b[39m\u001b[39m.\u001b[39m_dataset_kind \u001b[39m=\u001b[39m _DatasetKind\u001b[39m.\u001b[39mIterable\n\u001b[1;32m    202\u001b[0m     \u001b[39m# NOTE [ Custom Samplers and IterableDataset ]\u001b[39;00m\n\u001b[1;32m    203\u001b[0m     \u001b[39m#\u001b[39;00m\n\u001b[1;32m    204\u001b[0m     \u001b[39m# `IterableDataset` does not support custom `batch_sampler` or\u001b[39;00m\n\u001b[0;32m   (...)\u001b[0m\n\u001b[1;32m    225\u001b[0m     \u001b[39m# this, and support custom samplers that specify the assignments to\u001b[39;00m\n\u001b[1;32m    226\u001b[0m     \u001b[39m# specific workers.\u001b[39;00m\n",
      "File \u001b[0;32m~/miniconda3/envs/level1/lib/python3.10/typing.py:1498\u001b[0m, in \u001b[0;36m_ProtocolMeta.__instancecheck__\u001b[0;34m(cls, instance)\u001b[0m\n\u001b[1;32m   1490\u001b[0m \u001b[39mdef\u001b[39;00m \u001b[39m__instancecheck__\u001b[39m(\u001b[39mcls\u001b[39m, instance):\n\u001b[1;32m   1491\u001b[0m     \u001b[39m# We need this method for situations where attributes are\u001b[39;00m\n\u001b[1;32m   1492\u001b[0m     \u001b[39m# assigned in __init__.\u001b[39;00m\n\u001b[1;32m   1493\u001b[0m     \u001b[39mif\u001b[39;00m (\n\u001b[1;32m   1494\u001b[0m         \u001b[39mgetattr\u001b[39m(\u001b[39mcls\u001b[39m, \u001b[39m'\u001b[39m\u001b[39m_is_protocol\u001b[39m\u001b[39m'\u001b[39m, \u001b[39mFalse\u001b[39;00m) \u001b[39mand\u001b[39;00m\n\u001b[1;32m   1495\u001b[0m         \u001b[39mnot\u001b[39;00m \u001b[39mgetattr\u001b[39m(\u001b[39mcls\u001b[39m, \u001b[39m'\u001b[39m\u001b[39m_is_runtime_protocol\u001b[39m\u001b[39m'\u001b[39m, \u001b[39mFalse\u001b[39;00m) \u001b[39mand\u001b[39;00m\n\u001b[1;32m   1496\u001b[0m         \u001b[39mnot\u001b[39;00m _allow_reckless_class_checks(depth\u001b[39m=\u001b[39m\u001b[39m2\u001b[39m)\n\u001b[1;32m   1497\u001b[0m     ):\n\u001b[0;32m-> 1498\u001b[0m         \u001b[39mraise\u001b[39;00m \u001b[39mTypeError\u001b[39;00m(\u001b[39m\"\u001b[39m\u001b[39mInstance and class checks can only be used with\u001b[39m\u001b[39m\"\u001b[39m\n\u001b[1;32m   1499\u001b[0m                         \u001b[39m\"\u001b[39m\u001b[39m @runtime_checkable protocols\u001b[39m\u001b[39m\"\u001b[39m)\n\u001b[1;32m   1501\u001b[0m     \u001b[39mif\u001b[39;00m ((\u001b[39mnot\u001b[39;00m \u001b[39mgetattr\u001b[39m(\u001b[39mcls\u001b[39m, \u001b[39m'\u001b[39m\u001b[39m_is_protocol\u001b[39m\u001b[39m'\u001b[39m, \u001b[39mFalse\u001b[39;00m) \u001b[39mor\u001b[39;00m\n\u001b[1;32m   1502\u001b[0m             _is_callable_members_only(\u001b[39mcls\u001b[39m)) \u001b[39mand\u001b[39;00m\n\u001b[1;32m   1503\u001b[0m             \u001b[39missubclass\u001b[39m(instance\u001b[39m.\u001b[39m\u001b[39m__class__\u001b[39m, \u001b[39mcls\u001b[39m)):\n\u001b[1;32m   1504\u001b[0m         \u001b[39mreturn\u001b[39;00m \u001b[39mTrue\u001b[39;00m\n",
      "\u001b[0;31mTypeError\u001b[0m: Instance and class checks can only be used with @runtime_checkable protocols"
     ]
    }
   ],
   "source": [
    "dataset = MoviesDataset()\n",
    "dataloader = DataLoader(dataset, batch_size=1, shuffle=True)\n"
   ]
  },
  {
   "cell_type": "code",
   "execution_count": null,
   "metadata": {},
   "outputs": [],
   "source": []
  },
  {
   "cell_type": "code",
   "execution_count": null,
   "metadata": {},
   "outputs": [],
   "source": []
  }
 ],
 "metadata": {
  "kernelspec": {
   "display_name": "Python 3.10.6 ('level1')",
   "language": "python",
   "name": "python3"
  },
  "language_info": {
   "codemirror_mode": {
    "name": "ipython",
    "version": 3
   },
   "file_extension": ".py",
   "mimetype": "text/x-python",
   "name": "python",
   "nbconvert_exporter": "python",
   "pygments_lexer": "ipython3",
   "version": "3.10.6"
  },
  "orig_nbformat": 4,
  "vscode": {
   "interpreter": {
    "hash": "e8907dd44331b652aa214580cb960ba07018e7753706bd03c289ac241958cc94"
   }
  }
 },
 "nbformat": 4,
 "nbformat_minor": 2
}
