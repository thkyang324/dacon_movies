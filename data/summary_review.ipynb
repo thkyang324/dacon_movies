{
 "cells": [
  {
   "cell_type": "code",
   "execution_count": 16,
   "metadata": {},
   "outputs": [
    {
     "name": "stdout",
     "output_type": "stream",
     "text": [
      "Collecting pyperclip\n",
      "  Downloading pyperclip-1.8.2.tar.gz (20 kB)\n",
      "  Preparing metadata (setup.py) ... \u001b[?25ldone\n",
      "\u001b[?25hBuilding wheels for collected packages: pyperclip\n",
      "  Building wheel for pyperclip (setup.py) ... \u001b[?25ldone\n",
      "\u001b[?25h  Created wheel for pyperclip: filename=pyperclip-1.8.2-py3-none-any.whl size=11123 sha256=0bdebe992fc6cedefc2bd414f0bd2824a748b6fb3871b10ea45a3b28ae85ed22\n",
      "  Stored in directory: /Users/taehoon/Library/Caches/pip/wheels/04/24/fe/140a94a7f1036003ede94579e6b4227fe96c840c6f4dcbe307\n",
      "Successfully built pyperclip\n",
      "Installing collected packages: pyperclip\n",
      "Successfully installed pyperclip-1.8.2\n"
     ]
    }
   ],
   "source": [
    "!pip install pyperclip"
   ]
  },
  {
   "cell_type": "code",
   "execution_count": 17,
   "metadata": {},
   "outputs": [],
   "source": [
    "import pandas as pd\n",
    "import numpy as np\n",
    "import matplotlib.pyplot as plt\n",
    "import seaborn as sns\n",
    "\n",
    "\n",
    "from selenium import webdriver\n",
    "from selenium.webdriver.support.ui import WebDriverWait\n",
    "from selenium.webdriver.support import expected_conditions as EC\n",
    "from selenium.webdriver.common.by import By\n",
    "from selenium.webdriver.common.keys import Keys\n",
    "import time\n",
    "import pyperclip\n",
    "import re\n",
    "import time\n",
    "from tqdm import tqdm\n",
    "from collections import OrderedDict\n"
   ]
  },
  {
   "cell_type": "code",
   "execution_count": 18,
   "metadata": {},
   "outputs": [],
   "source": [
    "train=pd.read_csv('movies_train.csv')\n",
    "test=pd.read_csv('movies_test.csv')\n",
    "crawling=pd.read_csv('crawling_df.csv')"
   ]
  },
  {
   "cell_type": "code",
   "execution_count": 19,
   "metadata": {},
   "outputs": [],
   "source": []
  },
  {
   "cell_type": "code",
   "execution_count": 25,
   "metadata": {},
   "outputs": [],
   "source": [
    "driver = webdriver.Chrome(\"/Users/taehoon/chromedriver\")\n",
    "driver.implicitly_wait(time_to_wait=3)\n",
    "\n",
    "def naver_login():\n",
    "    naver_url = 'http://naver.com'\n",
    "    time.sleep(1)\n",
    "    driver.get(naver_url)\n",
    "    time.sleep(1)\n",
    "    #로그인 클릭\n",
    "    driver.find_element_by_xpath('//*[@id=\"account\"]/a').click()\n",
    "    time.sleep(1)\n",
    "    #아이디 입력\n",
    "    driver.find_element_by_xpath('//*[@id=\"id\"]').send_keys('thkyang324')\n",
    "    time.sleep(1)\n",
    "    #비밀번호 입력\n",
    "    driver.find_element_by_xpath('//*[@id=\"pw\"]').send_keys('.rkdxogns08271!')\n",
    "    time.sleep(1)\n",
    "    #로그인 버튼 클릭\n",
    "    driver.find_element_by_xpath('//*[@id=\"log.login\"]').click()\n",
    "    time.sleep(1)\n",
    "\n",
    "naver_login()"
   ]
  },
  {
   "cell_type": "code",
   "execution_count": 27,
   "metadata": {},
   "outputs": [],
   "source": [
    "def get_summary(url):\n",
    "    try:\n",
    "        driver.get(url)\n",
    "        WebDriverWait(driver, 3).until(EC.presence_of_element_located((By.CSS_SELECTOR, \".con_tx\")))\n",
    "        return driver.find_element_by_class_name('con_tx').text\n",
    "    except:\n",
    "        return\n",
    "\n",
    "crawling[\"summary\"] = crawling[\"url\"].apply(get_summary)"
   ]
  },
  {
   "cell_type": "code",
   "execution_count": 39,
   "metadata": {},
   "outputs": [
    {
     "data": {
      "text/plain": [
       "OrderedDict([('title', ''), ('review_text', ''), ('rating', -1)])"
      ]
     },
     "execution_count": 39,
     "metadata": {},
     "output_type": "execute_result"
    }
   ],
   "source": [
    "from collections import OrderedDict, defaultdict\n",
    "from copy import deepcopy\n",
    "form = OrderedDict({\"title\":\"\",\"review_text\":\"\",\"rating\":-1})\n",
    "deepcopy(form)"
   ]
  },
  {
   "cell_type": "code",
   "execution_count": 37,
   "metadata": {},
   "outputs": [
    {
     "data": {
      "text/plain": [
       "1"
      ]
     },
     "execution_count": 37,
     "metadata": {},
     "output_type": "execute_result"
    }
   ],
   "source": [
    "def get_review(url):\n",
    "    try:\n",
    "        url = url.replace(\"basic\", \"point\")+\"#tab\"\n",
    "        driver.get(url)\n",
    "        WebDriverWait(driver, 3).until(EC.presence_of_element_located((By.CSS_SELECTOR, \".score_result\")))\n",
    "        field = driver.find_element_by_class_name(\".score_result\")\n",
    "        return field.text\n",
    "    except:\n",
    "        return\n",
    "get_review(crawling[\"url\"].iloc[3])"
   ]
  },
  {
   "cell_type": "code",
   "execution_count": null,
   "metadata": {},
   "outputs": [],
   "source": []
  }
 ],
 "metadata": {
  "kernelspec": {
   "display_name": "Python 3.10.6 ('level1')",
   "language": "python",
   "name": "python3"
  },
  "language_info": {
   "codemirror_mode": {
    "name": "ipython",
    "version": 3
   },
   "file_extension": ".py",
   "mimetype": "text/x-python",
   "name": "python",
   "nbconvert_exporter": "python",
   "pygments_lexer": "ipython3",
   "version": "3.10.6"
  },
  "orig_nbformat": 4,
  "vscode": {
   "interpreter": {
    "hash": "e8907dd44331b652aa214580cb960ba07018e7753706bd03c289ac241958cc94"
   }
  }
 },
 "nbformat": 4,
 "nbformat_minor": 2
}
