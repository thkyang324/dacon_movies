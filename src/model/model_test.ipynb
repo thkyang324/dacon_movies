{
 "cells": [
  {
   "cell_type": "code",
   "execution_count": 354,
   "metadata": {},
   "outputs": [],
   "source": [
    "import xgboost as xgb\n",
    "import catboost\n",
    "import matplotlib.pyplot as plt\n",
    "from sklearn.model_selection import train_test_split\n",
    "from sklearn.metrics import mean_squared_error, r2_score\n",
    "import pandas as pd\n",
    "from bayes_opt import BayesianOptimization\n",
    "import numpy as np"
   ]
  },
  {
   "cell_type": "code",
   "execution_count": 355,
   "metadata": {},
   "outputs": [],
   "source": [
    "path = \"/Users/taehoon/Documents/dacon_movies/data/data\"\n",
    "route = path+\"/preprocessed_data/preprocessed_\"\n",
    "train, test = pd.read_csv(route+\"train.csv\", index_col=0), pd.read_csv(route+\"test.csv\", index_col=0)\n",
    "drops = [\"genre\", \"screening_rat\", \"release_day\"]"
   ]
  },
  {
   "cell_type": "code",
   "execution_count": 356,
   "metadata": {},
   "outputs": [],
   "source": [
    "def label_encoding(train, test):\n",
    "    all_df = pd.concat([train, test], ignore_index=True)\n",
    "    label_encoder = {}\n",
    "    str_columns = [(i, j) for i, j in zip(train.dtypes, train.columns)]\n",
    "    for tup in str_columns:\n",
    "        dtype, column = tup\n",
    "        if dtype != \"object\":\n",
    "            continue\n",
    "        val2idx = {i:j for j, i in enumerate(all_df[column].unique())}\n",
    "        label_encoder[column] = val2idx\n",
    "        train[column] = train[column].map(val2idx)\n",
    "        test[column] = test[column].map(val2idx)\n",
    "    return train, test, label_encoder\n",
    "train, test, _ = label_encoding(train, test)"
   ]
  },
  {
   "cell_type": "code",
   "execution_count": 357,
   "metadata": {},
   "outputs": [],
   "source": [
    "train_x, test_x, train_y, test_y = train_test_split(train.drop(\"box_off_num\",axis=1),train[\"box_off_num\"])\n",
    "def cbt_reg(n_estimators, depth, learning_rate, subsample, l2_leaf_reg):\n",
    "    params = {\n",
    "        \"n_estimators\":int(n_estimators),\n",
    "        \"depth\":int(depth) ,\n",
    "        \"learning_rate\":learning_rate ,\n",
    "        \"subsample\":subsample ,\n",
    "        \"l2_leaf_reg\":l2_leaf_reg ,\n",
    "        }\n",
    "    cbtr_model = catboost.CatBoostRegressor(\n",
    "                             **params,\n",
    "                             bootstrap_type='Bernoulli',\n",
    "                             eval_metric='RMSE',\n",
    "                             od_type='Iter',\n",
    "                             allow_writing_files=False)\n",
    "    cbtr_model.fit(train_x, train_y, silent=True)\n",
    "    y_pred = cbtr_model.predict(test_x)\n",
    "    rmse = mean_squared_error(test_y, y_pred, squared=False)\n",
    "    r2 = r2_score(test_y, y_pred)\n",
    "    return 1-rmse"
   ]
  },
  {
   "cell_type": "code",
   "execution_count": 358,
   "metadata": {},
   "outputs": [
    {
     "name": "stdout",
     "output_type": "stream",
     "text": [
      "|   iter    |  target   |   depth   | l2_lea... | learni... | n_esti... | subsample |\n",
      "-------------------------------------------------------------------------------------\n",
      "| \u001b[0m1        \u001b[0m | \u001b[0m-1.417e+0\u001b[0m | \u001b[0m3.873    \u001b[0m | \u001b[0m9.507    \u001b[0m | \u001b[0m0.1491   \u001b[0m | \u001b[0m799.3    \u001b[0m | \u001b[0m0.6624   \u001b[0m |\n",
      "| \u001b[0m2        \u001b[0m | \u001b[0m-1.476e+0\u001b[0m | \u001b[0m2.78     \u001b[0m | \u001b[0m0.5808   \u001b[0m | \u001b[0m0.1746   \u001b[0m | \u001b[0m800.6    \u001b[0m | \u001b[0m0.8832   \u001b[0m |\n",
      "| \u001b[0m3        \u001b[0m | \u001b[0m-1.436e+0\u001b[0m | \u001b[0m3.936    \u001b[0m | \u001b[0m6.911    \u001b[0m | \u001b[0m0.05903  \u001b[0m | \u001b[0m916.0    \u001b[0m | \u001b[0m0.8439   \u001b[0m |\n",
      "| \u001b[95m4        \u001b[0m | \u001b[95m-1.281e+0\u001b[0m | \u001b[95m6.532    \u001b[0m | \u001b[95m1.054    \u001b[0m | \u001b[95m0.03798  \u001b[0m | \u001b[95m962.6    \u001b[0m | \u001b[95m0.9083   \u001b[0m |\n",
      "| \u001b[95m5        \u001b[0m | \u001b[95m-1.234e+0\u001b[0m | \u001b[95m6.577    \u001b[0m | \u001b[95m1.588    \u001b[0m | \u001b[95m0.1378   \u001b[0m | \u001b[95m962.3    \u001b[0m | \u001b[95m0.6048   \u001b[0m |\n",
      "| \u001b[0m6        \u001b[0m | \u001b[0m-1.248e+0\u001b[0m | \u001b[0m6.642    \u001b[0m | \u001b[0m2.375    \u001b[0m | \u001b[0m0.2      \u001b[0m | \u001b[0m961.8    \u001b[0m | \u001b[0m0.6      \u001b[0m |\n",
      "| \u001b[0m7        \u001b[0m | \u001b[0m-1.33e+06\u001b[0m | \u001b[0m6.988    \u001b[0m | \u001b[0m2.859    \u001b[0m | \u001b[0m0.09431  \u001b[0m | \u001b[0m963.2    \u001b[0m | \u001b[0m0.988    \u001b[0m |\n",
      "| \u001b[0m8        \u001b[0m | \u001b[0m-1.271e+0\u001b[0m | \u001b[0m6.366    \u001b[0m | \u001b[0m1.362    \u001b[0m | \u001b[0m0.2      \u001b[0m | \u001b[0m961.3    \u001b[0m | \u001b[0m0.6      \u001b[0m |\n",
      "| \u001b[0m9        \u001b[0m | \u001b[0m-1.369e+0\u001b[0m | \u001b[0m5.176    \u001b[0m | \u001b[0m1.917    \u001b[0m | \u001b[0m0.1203   \u001b[0m | \u001b[0m962.6    \u001b[0m | \u001b[0m0.814    \u001b[0m |\n",
      "| \u001b[0m10       \u001b[0m | \u001b[0m-1.28e+06\u001b[0m | \u001b[0m6.497    \u001b[0m | \u001b[0m3.175    \u001b[0m | \u001b[0m0.09532  \u001b[0m | \u001b[0m959.5    \u001b[0m | \u001b[0m0.625    \u001b[0m |\n",
      "| \u001b[0m11       \u001b[0m | \u001b[0m-1.271e+0\u001b[0m | \u001b[0m7.0      \u001b[0m | \u001b[0m4.582    \u001b[0m | \u001b[0m0.2      \u001b[0m | \u001b[0m960.5    \u001b[0m | \u001b[0m0.6      \u001b[0m |\n",
      "| \u001b[0m12       \u001b[0m | \u001b[0m-1.333e+0\u001b[0m | \u001b[0m5.287    \u001b[0m | \u001b[0m5.171    \u001b[0m | \u001b[0m0.1861   \u001b[0m | \u001b[0m958.8    \u001b[0m | \u001b[0m0.9714   \u001b[0m |\n",
      "| \u001b[0m13       \u001b[0m | \u001b[0m-1.288e+0\u001b[0m | \u001b[0m6.952    \u001b[0m | \u001b[0m2.271    \u001b[0m | \u001b[0m0.09355  \u001b[0m | \u001b[0m960.3    \u001b[0m | \u001b[0m0.6152   \u001b[0m |\n",
      "| \u001b[0m14       \u001b[0m | \u001b[0m-1.255e+0\u001b[0m | \u001b[0m7.0      \u001b[0m | \u001b[0m2.722    \u001b[0m | \u001b[0m0.01     \u001b[0m | \u001b[0m957.1    \u001b[0m | \u001b[0m0.6      \u001b[0m |\n",
      "| \u001b[0m15       \u001b[0m | \u001b[0m-1.251e+0\u001b[0m | \u001b[0m6.229    \u001b[0m | \u001b[0m1.127    \u001b[0m | \u001b[0m0.1454   \u001b[0m | \u001b[0m956.7    \u001b[0m | \u001b[0m0.6531   \u001b[0m |\n",
      "| \u001b[0m16       \u001b[0m | \u001b[0m-1.383e+0\u001b[0m | \u001b[0m5.269    \u001b[0m | \u001b[0m1.95     \u001b[0m | \u001b[0m0.1853   \u001b[0m | \u001b[0m956.0    \u001b[0m | \u001b[0m0.8651   \u001b[0m |\n",
      "| \u001b[0m17       \u001b[0m | \u001b[0m-1.346e+0\u001b[0m | \u001b[0m6.728    \u001b[0m | \u001b[0m1.304    \u001b[0m | \u001b[0m0.1885   \u001b[0m | \u001b[0m957.7    \u001b[0m | \u001b[0m0.7595   \u001b[0m |\n",
      "| \u001b[0m18       \u001b[0m | \u001b[0m-1.261e+0\u001b[0m | \u001b[0m6.774    \u001b[0m | \u001b[0m1.534    \u001b[0m | \u001b[0m0.0418   \u001b[0m | \u001b[0m956.0    \u001b[0m | \u001b[0m0.8662   \u001b[0m |\n",
      "| \u001b[0m19       \u001b[0m | \u001b[0m-1.415e+0\u001b[0m | \u001b[0m5.722    \u001b[0m | \u001b[0m3.571    \u001b[0m | \u001b[0m0.1207   \u001b[0m | \u001b[0m960.6    \u001b[0m | \u001b[0m0.945    \u001b[0m |\n",
      "| \u001b[95m20       \u001b[0m | \u001b[95m-1.192e+0\u001b[0m | \u001b[95m6.762    \u001b[0m | \u001b[95m0.6045   \u001b[0m | \u001b[95m0.1252   \u001b[0m | \u001b[95m956.2    \u001b[0m | \u001b[95m0.6856   \u001b[0m |\n",
      "| \u001b[0m21       \u001b[0m | \u001b[0m-1.335e+0\u001b[0m | \u001b[0m6.285    \u001b[0m | \u001b[0m0.2155   \u001b[0m | \u001b[0m0.05909  \u001b[0m | \u001b[0m955.7    \u001b[0m | \u001b[0m0.9275   \u001b[0m |\n",
      "| \u001b[0m22       \u001b[0m | \u001b[0m-1.288e+0\u001b[0m | \u001b[0m6.921    \u001b[0m | \u001b[0m0.4699   \u001b[0m | \u001b[0m0.01873  \u001b[0m | \u001b[0m961.0    \u001b[0m | \u001b[0m0.6414   \u001b[0m |\n",
      "| \u001b[0m23       \u001b[0m | \u001b[0m-1.318e+0\u001b[0m | \u001b[0m6.806    \u001b[0m | \u001b[0m4.176    \u001b[0m | \u001b[0m0.1515   \u001b[0m | \u001b[0m957.5    \u001b[0m | \u001b[0m0.6142   \u001b[0m |\n",
      "| \u001b[0m24       \u001b[0m | \u001b[0m-1.338e+0\u001b[0m | \u001b[0m6.903    \u001b[0m | \u001b[0m0.03766  \u001b[0m | \u001b[0m0.1753   \u001b[0m | \u001b[0m956.5    \u001b[0m | \u001b[0m0.6603   \u001b[0m |\n",
      "| \u001b[0m25       \u001b[0m | \u001b[0m-1.244e+0\u001b[0m | \u001b[0m6.921    \u001b[0m | \u001b[0m3.748    \u001b[0m | \u001b[0m0.04917  \u001b[0m | \u001b[0m872.0    \u001b[0m | \u001b[0m0.8698   \u001b[0m |\n",
      "| \u001b[0m26       \u001b[0m | \u001b[0m-1.35e+06\u001b[0m | \u001b[0m6.095    \u001b[0m | \u001b[0m3.406    \u001b[0m | \u001b[0m0.07957  \u001b[0m | \u001b[0m872.3    \u001b[0m | \u001b[0m0.8092   \u001b[0m |\n",
      "| \u001b[0m27       \u001b[0m | \u001b[0m-1.356e+0\u001b[0m | \u001b[0m4.317    \u001b[0m | \u001b[0m7.613    \u001b[0m | \u001b[0m0.1485   \u001b[0m | \u001b[0m951.0    \u001b[0m | \u001b[0m0.642    \u001b[0m |\n",
      "| \u001b[0m28       \u001b[0m | \u001b[0m-1.38e+06\u001b[0m | \u001b[0m6.274    \u001b[0m | \u001b[0m0.8378   \u001b[0m | \u001b[0m0.1739   \u001b[0m | \u001b[0m956.4    \u001b[0m | \u001b[0m0.9144   \u001b[0m |\n",
      "| \u001b[0m29       \u001b[0m | \u001b[0m-1.36e+06\u001b[0m | \u001b[0m5.874    \u001b[0m | \u001b[0m0.1028   \u001b[0m | \u001b[0m0.05154  \u001b[0m | \u001b[0m753.8    \u001b[0m | \u001b[0m0.7469   \u001b[0m |\n",
      "| \u001b[0m30       \u001b[0m | \u001b[0m-1.348e+0\u001b[0m | \u001b[0m5.127    \u001b[0m | \u001b[0m0.2786   \u001b[0m | \u001b[0m0.1092   \u001b[0m | \u001b[0m805.3    \u001b[0m | \u001b[0m0.9992   \u001b[0m |\n",
      "| \u001b[0m31       \u001b[0m | \u001b[0m-1.334e+0\u001b[0m | \u001b[0m4.702    \u001b[0m | \u001b[0m1.168    \u001b[0m | \u001b[0m0.08614  \u001b[0m | \u001b[0m832.6    \u001b[0m | \u001b[0m0.8386   \u001b[0m |\n",
      "| \u001b[0m32       \u001b[0m | \u001b[0m-1.341e+0\u001b[0m | \u001b[0m5.976    \u001b[0m | \u001b[0m4.733    \u001b[0m | \u001b[0m0.06579  \u001b[0m | \u001b[0m855.4    \u001b[0m | \u001b[0m0.9992   \u001b[0m |\n",
      "| \u001b[0m33       \u001b[0m | \u001b[0m-1.435e+0\u001b[0m | \u001b[0m4.973    \u001b[0m | \u001b[0m1.316    \u001b[0m | \u001b[0m0.1667   \u001b[0m | \u001b[0m624.9    \u001b[0m | \u001b[0m0.6836   \u001b[0m |\n",
      "| \u001b[0m34       \u001b[0m | \u001b[0m-1.331e+0\u001b[0m | \u001b[0m3.701    \u001b[0m | \u001b[0m8.547    \u001b[0m | \u001b[0m0.02549  \u001b[0m | \u001b[0m711.0    \u001b[0m | \u001b[0m0.6791   \u001b[0m |\n",
      "| \u001b[0m35       \u001b[0m | \u001b[0m-1.389e+0\u001b[0m | \u001b[0m4.154    \u001b[0m | \u001b[0m7.044    \u001b[0m | \u001b[0m0.1815   \u001b[0m | \u001b[0m810.3    \u001b[0m | \u001b[0m0.6281   \u001b[0m |\n",
      "| \u001b[0m36       \u001b[0m | \u001b[0m-1.358e+0\u001b[0m | \u001b[0m3.338    \u001b[0m | \u001b[0m4.137    \u001b[0m | \u001b[0m0.02233  \u001b[0m | \u001b[0m887.3    \u001b[0m | \u001b[0m0.6076   \u001b[0m |\n",
      "| \u001b[0m37       \u001b[0m | \u001b[0m-1.325e+0\u001b[0m | \u001b[0m3.424    \u001b[0m | \u001b[0m0.4874   \u001b[0m | \u001b[0m0.02813  \u001b[0m | \u001b[0m949.3    \u001b[0m | \u001b[0m0.9895   \u001b[0m |\n",
      "| \u001b[0m38       \u001b[0m | \u001b[0m-1.394e+0\u001b[0m | \u001b[0m3.38     \u001b[0m | \u001b[0m1.303    \u001b[0m | \u001b[0m0.09361  \u001b[0m | \u001b[0m725.5    \u001b[0m | \u001b[0m0.9201   \u001b[0m |\n",
      "| \u001b[0m39       \u001b[0m | \u001b[0m-1.296e+0\u001b[0m | \u001b[0m6.904    \u001b[0m | \u001b[0m1.221    \u001b[0m | \u001b[0m0.07494  \u001b[0m | \u001b[0m502.2    \u001b[0m | \u001b[0m0.7304   \u001b[0m |\n",
      "| \u001b[0m40       \u001b[0m | \u001b[0m-1.328e+0\u001b[0m | \u001b[0m4.539    \u001b[0m | \u001b[0m6.527    \u001b[0m | \u001b[0m0.06296  \u001b[0m | \u001b[0m935.3    \u001b[0m | \u001b[0m0.8003   \u001b[0m |\n",
      "| \u001b[0m41       \u001b[0m | \u001b[0m-1.376e+0\u001b[0m | \u001b[0m3.406    \u001b[0m | \u001b[0m8.742    \u001b[0m | \u001b[0m0.1109   \u001b[0m | \u001b[0m747.1    \u001b[0m | \u001b[0m0.9837   \u001b[0m |\n",
      "| \u001b[0m42       \u001b[0m | \u001b[0m-1.365e+0\u001b[0m | \u001b[0m4.547    \u001b[0m | \u001b[0m2.468    \u001b[0m | \u001b[0m0.05312  \u001b[0m | \u001b[0m745.0    \u001b[0m | \u001b[0m0.7965   \u001b[0m |\n",
      "| \u001b[0m43       \u001b[0m | \u001b[0m-1.559e+0\u001b[0m | \u001b[0m2.435    \u001b[0m | \u001b[0m8.813    \u001b[0m | \u001b[0m0.1676   \u001b[0m | \u001b[0m970.2    \u001b[0m | \u001b[0m0.8028   \u001b[0m |\n",
      "| \u001b[0m44       \u001b[0m | \u001b[0m-1.235e+0\u001b[0m | \u001b[0m6.216    \u001b[0m | \u001b[0m8.379    \u001b[0m | \u001b[0m0.01567  \u001b[0m | \u001b[0m872.3    \u001b[0m | \u001b[0m0.8852   \u001b[0m |\n",
      "| \u001b[0m45       \u001b[0m | \u001b[0m-1.538e+0\u001b[0m | \u001b[0m2.735    \u001b[0m | \u001b[0m6.017    \u001b[0m | \u001b[0m0.1734   \u001b[0m | \u001b[0m844.0    \u001b[0m | \u001b[0m0.9606   \u001b[0m |\n",
      "| \u001b[0m46       \u001b[0m | \u001b[0m-1.301e+0\u001b[0m | \u001b[0m4.764    \u001b[0m | \u001b[0m6.65     \u001b[0m | \u001b[0m0.05214  \u001b[0m | \u001b[0m754.5    \u001b[0m | \u001b[0m0.6175   \u001b[0m |\n",
      "| \u001b[0m47       \u001b[0m | \u001b[0m-1.348e+0\u001b[0m | \u001b[0m4.383    \u001b[0m | \u001b[0m7.67     \u001b[0m | \u001b[0m0.0422   \u001b[0m | \u001b[0m905.1    \u001b[0m | \u001b[0m0.8315   \u001b[0m |\n",
      "| \u001b[0m48       \u001b[0m | \u001b[0m-1.443e+0\u001b[0m | \u001b[0m2.545    \u001b[0m | \u001b[0m2.664    \u001b[0m | \u001b[0m0.04583  \u001b[0m | \u001b[0m736.8    \u001b[0m | \u001b[0m0.6512   \u001b[0m |\n",
      "| \u001b[0m49       \u001b[0m | \u001b[0m-1.375e+0\u001b[0m | \u001b[0m6.564    \u001b[0m | \u001b[0m4.127    \u001b[0m | \u001b[0m0.09484  \u001b[0m | \u001b[0m845.7    \u001b[0m | \u001b[0m0.961    \u001b[0m |\n",
      "| \u001b[0m50       \u001b[0m | \u001b[0m-1.312e+0\u001b[0m | \u001b[0m6.86     \u001b[0m | \u001b[0m4.764    \u001b[0m | \u001b[0m0.1946   \u001b[0m | \u001b[0m721.4    \u001b[0m | \u001b[0m0.7993   \u001b[0m |\n",
      "| \u001b[0m51       \u001b[0m | \u001b[0m-1.34e+06\u001b[0m | \u001b[0m4.828    \u001b[0m | \u001b[0m2.391    \u001b[0m | \u001b[0m0.03043  \u001b[0m | \u001b[0m923.1    \u001b[0m | \u001b[0m0.982    \u001b[0m |\n",
      "| \u001b[0m52       \u001b[0m | \u001b[0m-1.419e+0\u001b[0m | \u001b[0m2.354    \u001b[0m | \u001b[0m7.551    \u001b[0m | \u001b[0m0.09267  \u001b[0m | \u001b[0m682.9    \u001b[0m | \u001b[0m0.965    \u001b[0m |\n",
      "| \u001b[0m53       \u001b[0m | \u001b[0m-1.465e+0\u001b[0m | \u001b[0m3.989    \u001b[0m | \u001b[0m8.582    \u001b[0m | \u001b[0m0.1916   \u001b[0m | \u001b[0m855.5    \u001b[0m | \u001b[0m0.8383   \u001b[0m |\n",
      "| \u001b[0m54       \u001b[0m | \u001b[0m-1.307e+0\u001b[0m | \u001b[0m5.673    \u001b[0m | \u001b[0m2.596    \u001b[0m | \u001b[0m0.1682   \u001b[0m | \u001b[0m929.0    \u001b[0m | \u001b[0m0.8533   \u001b[0m |\n",
      "| \u001b[0m55       \u001b[0m | \u001b[0m-1.461e+0\u001b[0m | \u001b[0m5.388    \u001b[0m | \u001b[0m6.149    \u001b[0m | \u001b[0m0.168    \u001b[0m | \u001b[0m933.8    \u001b[0m | \u001b[0m0.9918   \u001b[0m |\n",
      "| \u001b[0m56       \u001b[0m | \u001b[0m-1.466e+0\u001b[0m | \u001b[0m2.944    \u001b[0m | \u001b[0m8.935    \u001b[0m | \u001b[0m0.1357   \u001b[0m | \u001b[0m757.2    \u001b[0m | \u001b[0m0.891    \u001b[0m |\n",
      "| \u001b[0m57       \u001b[0m | \u001b[0m-1.383e+0\u001b[0m | \u001b[0m4.757    \u001b[0m | \u001b[0m6.4      \u001b[0m | \u001b[0m0.09375  \u001b[0m | \u001b[0m703.0    \u001b[0m | \u001b[0m0.9002   \u001b[0m |\n",
      "| \u001b[0m58       \u001b[0m | \u001b[0m-1.336e+0\u001b[0m | \u001b[0m4.722    \u001b[0m | \u001b[0m5.065    \u001b[0m | \u001b[0m0.1455   \u001b[0m | \u001b[0m737.9    \u001b[0m | \u001b[0m0.9669   \u001b[0m |\n",
      "| \u001b[0m59       \u001b[0m | \u001b[0m-1.222e+0\u001b[0m | \u001b[0m6.215    \u001b[0m | \u001b[0m2.825    \u001b[0m | \u001b[0m0.03785  \u001b[0m | \u001b[0m600.9    \u001b[0m | \u001b[0m0.6239   \u001b[0m |\n",
      "| \u001b[0m60       \u001b[0m | \u001b[0m-1.314e+0\u001b[0m | \u001b[0m4.459    \u001b[0m | \u001b[0m0.8318   \u001b[0m | \u001b[0m0.06419  \u001b[0m | \u001b[0m978.5    \u001b[0m | \u001b[0m0.9007   \u001b[0m |\n",
      "| \u001b[0m61       \u001b[0m | \u001b[0m-1.324e+0\u001b[0m | \u001b[0m3.632    \u001b[0m | \u001b[0m0.05666  \u001b[0m | \u001b[0m0.04389  \u001b[0m | \u001b[0m729.9    \u001b[0m | \u001b[0m0.9343   \u001b[0m |\n",
      "| \u001b[0m62       \u001b[0m | \u001b[0m-1.316e+0\u001b[0m | \u001b[0m5.878    \u001b[0m | \u001b[0m6.153    \u001b[0m | \u001b[0m0.09297  \u001b[0m | \u001b[0m931.4    \u001b[0m | \u001b[0m0.8104   \u001b[0m |\n",
      "| \u001b[0m63       \u001b[0m | \u001b[0m-1.433e+0\u001b[0m | \u001b[0m2.787    \u001b[0m | \u001b[0m9.064    \u001b[0m | \u001b[0m0.08022  \u001b[0m | \u001b[0m777.8    \u001b[0m | \u001b[0m0.8653   \u001b[0m |\n",
      "| \u001b[0m64       \u001b[0m | \u001b[0m-1.332e+0\u001b[0m | \u001b[0m6.028    \u001b[0m | \u001b[0m0.8723   \u001b[0m | \u001b[0m0.0746   \u001b[0m | \u001b[0m913.3    \u001b[0m | \u001b[0m0.9181   \u001b[0m |\n",
      "| \u001b[0m65       \u001b[0m | \u001b[0m-1.373e+0\u001b[0m | \u001b[0m4.119    \u001b[0m | \u001b[0m8.091    \u001b[0m | \u001b[0m0.1343   \u001b[0m | \u001b[0m944.3    \u001b[0m | \u001b[0m0.9636   \u001b[0m |\n",
      "| \u001b[0m66       \u001b[0m | \u001b[0m-1.383e+0\u001b[0m | \u001b[0m5.085    \u001b[0m | \u001b[0m7.042    \u001b[0m | \u001b[0m0.162    \u001b[0m | \u001b[0m966.5    \u001b[0m | \u001b[0m0.9365   \u001b[0m |\n",
      "| \u001b[0m67       \u001b[0m | \u001b[0m-1.278e+0\u001b[0m | \u001b[0m5.904    \u001b[0m | \u001b[0m2.874    \u001b[0m | \u001b[0m0.1527   \u001b[0m | \u001b[0m545.9    \u001b[0m | \u001b[0m0.8102   \u001b[0m |\n",
      "| \u001b[0m68       \u001b[0m | \u001b[0m-1.454e+0\u001b[0m | \u001b[0m3.158    \u001b[0m | \u001b[0m5.822    \u001b[0m | \u001b[0m0.1504   \u001b[0m | \u001b[0m529.8    \u001b[0m | \u001b[0m0.6628   \u001b[0m |\n",
      "| \u001b[0m69       \u001b[0m | \u001b[0m-1.441e+0\u001b[0m | \u001b[0m4.54     \u001b[0m | \u001b[0m1.404    \u001b[0m | \u001b[0m0.1935   \u001b[0m | \u001b[0m860.8    \u001b[0m | \u001b[0m0.8169   \u001b[0m |\n",
      "| \u001b[0m70       \u001b[0m | \u001b[0m-1.381e+0\u001b[0m | \u001b[0m4.369    \u001b[0m | \u001b[0m0.9391   \u001b[0m | \u001b[0m0.1909   \u001b[0m | \u001b[0m822.9    \u001b[0m | \u001b[0m0.7675   \u001b[0m |\n",
      "| \u001b[95m71       \u001b[0m | \u001b[95m-1.183e+0\u001b[0m | \u001b[95m6.083    \u001b[0m | \u001b[95m1.592    \u001b[0m | \u001b[95m0.166    \u001b[0m | \u001b[95m846.5    \u001b[0m | \u001b[95m0.711    \u001b[0m |\n",
      "| \u001b[0m72       \u001b[0m | \u001b[0m-1.482e+0\u001b[0m | \u001b[0m3.128    \u001b[0m | \u001b[0m2.782    \u001b[0m | \u001b[0m0.0981   \u001b[0m | \u001b[0m966.4    \u001b[0m | \u001b[0m0.6593   \u001b[0m |\n",
      "| \u001b[0m73       \u001b[0m | \u001b[0m-1.478e+0\u001b[0m | \u001b[0m2.128    \u001b[0m | \u001b[0m0.3048   \u001b[0m | \u001b[0m0.06474  \u001b[0m | \u001b[0m699.8    \u001b[0m | \u001b[0m0.6876   \u001b[0m |\n"
     ]
    },
    {
     "ename": "KeyboardInterrupt",
     "evalue": "",
     "output_type": "error",
     "traceback": [
      "\u001b[0;31m---------------------------------------------------------------------------\u001b[0m",
      "\u001b[0;31mKeyError\u001b[0m                                  Traceback (most recent call last)",
      "File \u001b[0;32m~/miniconda3/envs/movies/lib/python3.10/site-packages/bayes_opt/target_space.py:191\u001b[0m, in \u001b[0;36mTargetSpace.probe\u001b[0;34m(self, params)\u001b[0m\n\u001b[1;32m    190\u001b[0m \u001b[39mtry\u001b[39;00m:\n\u001b[0;32m--> 191\u001b[0m     target \u001b[39m=\u001b[39m \u001b[39mself\u001b[39;49m\u001b[39m.\u001b[39;49m_cache[_hashable(x)]\n\u001b[1;32m    192\u001b[0m \u001b[39mexcept\u001b[39;00m \u001b[39mKeyError\u001b[39;00m:\n",
      "\u001b[0;31mKeyError\u001b[0m: (6.645333474591843, 9.096688898866793, 0.12851452651226342, 618.4636824865219, 0.774035385617579)",
      "\nDuring handling of the above exception, another exception occurred:\n",
      "\u001b[0;31mKeyboardInterrupt\u001b[0m                         Traceback (most recent call last)",
      "\u001b[1;32m/Users/taehoon/Documents/dacon_movies/data/src/model/model_test.ipynb 셀 5\u001b[0m in \u001b[0;36m<cell line: 8>\u001b[0;34m()\u001b[0m\n\u001b[1;32m      <a href='vscode-notebook-cell:/Users/taehoon/Documents/dacon_movies/data/src/model/model_test.ipynb#W2sZmlsZQ%3D%3D?line=0'>1</a>\u001b[0m pbounds \u001b[39m=\u001b[39m {\u001b[39m\"\u001b[39m\u001b[39mn_estimators\u001b[39m\u001b[39m\"\u001b[39m: (\u001b[39m500\u001b[39m,\u001b[39m1000\u001b[39m),\n\u001b[1;32m      <a href='vscode-notebook-cell:/Users/taehoon/Documents/dacon_movies/data/src/model/model_test.ipynb#W2sZmlsZQ%3D%3D?line=1'>2</a>\u001b[0m            \u001b[39m\"\u001b[39m\u001b[39mdepth\u001b[39m\u001b[39m\"\u001b[39m: (\u001b[39m2\u001b[39m,\u001b[39m7\u001b[39m),\n\u001b[1;32m      <a href='vscode-notebook-cell:/Users/taehoon/Documents/dacon_movies/data/src/model/model_test.ipynb#W2sZmlsZQ%3D%3D?line=2'>3</a>\u001b[0m            \u001b[39m\"\u001b[39m\u001b[39mlearning_rate\u001b[39m\u001b[39m\"\u001b[39m: (\u001b[39m.01\u001b[39m, \u001b[39m0.2\u001b[39m),\n\u001b[1;32m      <a href='vscode-notebook-cell:/Users/taehoon/Documents/dacon_movies/data/src/model/model_test.ipynb#W2sZmlsZQ%3D%3D?line=3'>4</a>\u001b[0m            \u001b[39m\"\u001b[39m\u001b[39msubsample\u001b[39m\u001b[39m\"\u001b[39m:(\u001b[39m0.6\u001b[39m, \u001b[39m1.\u001b[39m),\n\u001b[1;32m      <a href='vscode-notebook-cell:/Users/taehoon/Documents/dacon_movies/data/src/model/model_test.ipynb#W2sZmlsZQ%3D%3D?line=4'>5</a>\u001b[0m            \u001b[39m\"\u001b[39m\u001b[39ml2_leaf_reg\u001b[39m\u001b[39m\"\u001b[39m:(\u001b[39m0\u001b[39m,\u001b[39m10\u001b[39m),\n\u001b[1;32m      <a href='vscode-notebook-cell:/Users/taehoon/Documents/dacon_movies/data/src/model/model_test.ipynb#W2sZmlsZQ%3D%3D?line=5'>6</a>\u001b[0m }\n\u001b[1;32m      <a href='vscode-notebook-cell:/Users/taehoon/Documents/dacon_movies/data/src/model/model_test.ipynb#W2sZmlsZQ%3D%3D?line=6'>7</a>\u001b[0m bo \u001b[39m=\u001b[39m BayesianOptimization(f\u001b[39m=\u001b[39mcbt_reg, pbounds\u001b[39m=\u001b[39mpbounds, verbose\u001b[39m=\u001b[39m\u001b[39m2\u001b[39m, random_state\u001b[39m=\u001b[39m\u001b[39m42\u001b[39m)\n\u001b[0;32m----> <a href='vscode-notebook-cell:/Users/taehoon/Documents/dacon_movies/data/src/model/model_test.ipynb#W2sZmlsZQ%3D%3D?line=7'>8</a>\u001b[0m bo\u001b[39m.\u001b[39;49mmaximize(init_points\u001b[39m=\u001b[39;49m\u001b[39m2\u001b[39;49m, n_iter\u001b[39m=\u001b[39;49m\u001b[39m500\u001b[39;49m, acq\u001b[39m=\u001b[39;49m\u001b[39m'\u001b[39;49m\u001b[39mei\u001b[39;49m\u001b[39m'\u001b[39;49m, xi\u001b[39m=\u001b[39;49m\u001b[39m0.01\u001b[39;49m)\n\u001b[1;32m      <a href='vscode-notebook-cell:/Users/taehoon/Documents/dacon_movies/data/src/model/model_test.ipynb#W2sZmlsZQ%3D%3D?line=8'>9</a>\u001b[0m high_score \u001b[39m=\u001b[39m bo\u001b[39m.\u001b[39mmax\n\u001b[1;32m     <a href='vscode-notebook-cell:/Users/taehoon/Documents/dacon_movies/data/src/model/model_test.ipynb#W2sZmlsZQ%3D%3D?line=9'>10</a>\u001b[0m \u001b[39m1\u001b[39m\u001b[39m-\u001b[39mcbt_reg(\u001b[39m*\u001b[39m\u001b[39m*\u001b[39mhigh_score[\u001b[39m\"\u001b[39m\u001b[39mparams\u001b[39m\u001b[39m\"\u001b[39m])\n",
      "File \u001b[0;32m~/miniconda3/envs/movies/lib/python3.10/site-packages/bayes_opt/bayesian_optimization.py:305\u001b[0m, in \u001b[0;36mBayesianOptimization.maximize\u001b[0;34m(self, init_points, n_iter, acq, kappa, kappa_decay, kappa_decay_delay, xi, **gp_params)\u001b[0m\n\u001b[1;32m    303\u001b[0m     x_probe \u001b[39m=\u001b[39m \u001b[39mself\u001b[39m\u001b[39m.\u001b[39msuggest(util)\n\u001b[1;32m    304\u001b[0m     iteration \u001b[39m+\u001b[39m\u001b[39m=\u001b[39m \u001b[39m1\u001b[39m\n\u001b[0;32m--> 305\u001b[0m \u001b[39mself\u001b[39;49m\u001b[39m.\u001b[39;49mprobe(x_probe, lazy\u001b[39m=\u001b[39;49m\u001b[39mFalse\u001b[39;49;00m)\n\u001b[1;32m    307\u001b[0m \u001b[39mif\u001b[39;00m \u001b[39mself\u001b[39m\u001b[39m.\u001b[39m_bounds_transformer \u001b[39mand\u001b[39;00m iteration \u001b[39m>\u001b[39m \u001b[39m0\u001b[39m:\n\u001b[1;32m    308\u001b[0m     \u001b[39m# The bounds transformer should only modify the bounds after\u001b[39;00m\n\u001b[1;32m    309\u001b[0m     \u001b[39m# the init_points points (only for the true iterations)\u001b[39;00m\n\u001b[1;32m    310\u001b[0m     \u001b[39mself\u001b[39m\u001b[39m.\u001b[39mset_bounds(\n\u001b[1;32m    311\u001b[0m         \u001b[39mself\u001b[39m\u001b[39m.\u001b[39m_bounds_transformer\u001b[39m.\u001b[39mtransform(\u001b[39mself\u001b[39m\u001b[39m.\u001b[39m_space))\n",
      "File \u001b[0;32m~/miniconda3/envs/movies/lib/python3.10/site-packages/bayes_opt/bayesian_optimization.py:200\u001b[0m, in \u001b[0;36mBayesianOptimization.probe\u001b[0;34m(self, params, lazy)\u001b[0m\n\u001b[1;32m    198\u001b[0m     \u001b[39mself\u001b[39m\u001b[39m.\u001b[39m_queue\u001b[39m.\u001b[39madd(params)\n\u001b[1;32m    199\u001b[0m \u001b[39melse\u001b[39;00m:\n\u001b[0;32m--> 200\u001b[0m     \u001b[39mself\u001b[39;49m\u001b[39m.\u001b[39;49m_space\u001b[39m.\u001b[39;49mprobe(params)\n\u001b[1;32m    201\u001b[0m     \u001b[39mself\u001b[39m\u001b[39m.\u001b[39mdispatch(Events\u001b[39m.\u001b[39mOPTIMIZATION_STEP)\n",
      "File \u001b[0;32m~/miniconda3/envs/movies/lib/python3.10/site-packages/bayes_opt/target_space.py:194\u001b[0m, in \u001b[0;36mTargetSpace.probe\u001b[0;34m(self, params)\u001b[0m\n\u001b[1;32m    192\u001b[0m \u001b[39mexcept\u001b[39;00m \u001b[39mKeyError\u001b[39;00m:\n\u001b[1;32m    193\u001b[0m     params \u001b[39m=\u001b[39m \u001b[39mdict\u001b[39m(\u001b[39mzip\u001b[39m(\u001b[39mself\u001b[39m\u001b[39m.\u001b[39m_keys, x))\n\u001b[0;32m--> 194\u001b[0m     target \u001b[39m=\u001b[39m \u001b[39mself\u001b[39;49m\u001b[39m.\u001b[39;49mtarget_func(\u001b[39m*\u001b[39;49m\u001b[39m*\u001b[39;49mparams)\n\u001b[1;32m    195\u001b[0m     \u001b[39mself\u001b[39m\u001b[39m.\u001b[39mregister(x, target)\n\u001b[1;32m    196\u001b[0m \u001b[39mreturn\u001b[39;00m target\n",
      "\u001b[1;32m/Users/taehoon/Documents/dacon_movies/data/src/model/model_test.ipynb 셀 5\u001b[0m in \u001b[0;36mcbt_reg\u001b[0;34m(n_estimators, depth, learning_rate, subsample, l2_leaf_reg)\u001b[0m\n\u001b[1;32m      <a href='vscode-notebook-cell:/Users/taehoon/Documents/dacon_movies/data/src/model/model_test.ipynb#W2sZmlsZQ%3D%3D?line=3'>4</a>\u001b[0m params \u001b[39m=\u001b[39m {\n\u001b[1;32m      <a href='vscode-notebook-cell:/Users/taehoon/Documents/dacon_movies/data/src/model/model_test.ipynb#W2sZmlsZQ%3D%3D?line=4'>5</a>\u001b[0m     \u001b[39m\"\u001b[39m\u001b[39mn_estimators\u001b[39m\u001b[39m\"\u001b[39m:\u001b[39mint\u001b[39m(n_estimators),\n\u001b[1;32m      <a href='vscode-notebook-cell:/Users/taehoon/Documents/dacon_movies/data/src/model/model_test.ipynb#W2sZmlsZQ%3D%3D?line=5'>6</a>\u001b[0m     \u001b[39m\"\u001b[39m\u001b[39mdepth\u001b[39m\u001b[39m\"\u001b[39m:\u001b[39mint\u001b[39m(depth) ,\n\u001b[0;32m   (...)\u001b[0m\n\u001b[1;32m      <a href='vscode-notebook-cell:/Users/taehoon/Documents/dacon_movies/data/src/model/model_test.ipynb#W2sZmlsZQ%3D%3D?line=8'>9</a>\u001b[0m     \u001b[39m\"\u001b[39m\u001b[39ml2_leaf_reg\u001b[39m\u001b[39m\"\u001b[39m:l2_leaf_reg ,\n\u001b[1;32m     <a href='vscode-notebook-cell:/Users/taehoon/Documents/dacon_movies/data/src/model/model_test.ipynb#W2sZmlsZQ%3D%3D?line=9'>10</a>\u001b[0m     }\n\u001b[1;32m     <a href='vscode-notebook-cell:/Users/taehoon/Documents/dacon_movies/data/src/model/model_test.ipynb#W2sZmlsZQ%3D%3D?line=10'>11</a>\u001b[0m cbtr_model \u001b[39m=\u001b[39m catboost\u001b[39m.\u001b[39mCatBoostRegressor(\n\u001b[1;32m     <a href='vscode-notebook-cell:/Users/taehoon/Documents/dacon_movies/data/src/model/model_test.ipynb#W2sZmlsZQ%3D%3D?line=11'>12</a>\u001b[0m                          \u001b[39m*\u001b[39m\u001b[39m*\u001b[39mparams,\n\u001b[1;32m     <a href='vscode-notebook-cell:/Users/taehoon/Documents/dacon_movies/data/src/model/model_test.ipynb#W2sZmlsZQ%3D%3D?line=12'>13</a>\u001b[0m                          bootstrap_type\u001b[39m=\u001b[39m\u001b[39m'\u001b[39m\u001b[39mBernoulli\u001b[39m\u001b[39m'\u001b[39m,\n\u001b[1;32m     <a href='vscode-notebook-cell:/Users/taehoon/Documents/dacon_movies/data/src/model/model_test.ipynb#W2sZmlsZQ%3D%3D?line=13'>14</a>\u001b[0m                          eval_metric\u001b[39m=\u001b[39m\u001b[39m'\u001b[39m\u001b[39mRMSE\u001b[39m\u001b[39m'\u001b[39m,\n\u001b[1;32m     <a href='vscode-notebook-cell:/Users/taehoon/Documents/dacon_movies/data/src/model/model_test.ipynb#W2sZmlsZQ%3D%3D?line=14'>15</a>\u001b[0m                          od_type\u001b[39m=\u001b[39m\u001b[39m'\u001b[39m\u001b[39mIter\u001b[39m\u001b[39m'\u001b[39m,\n\u001b[1;32m     <a href='vscode-notebook-cell:/Users/taehoon/Documents/dacon_movies/data/src/model/model_test.ipynb#W2sZmlsZQ%3D%3D?line=15'>16</a>\u001b[0m                          allow_writing_files\u001b[39m=\u001b[39m\u001b[39mFalse\u001b[39;00m)\n\u001b[0;32m---> <a href='vscode-notebook-cell:/Users/taehoon/Documents/dacon_movies/data/src/model/model_test.ipynb#W2sZmlsZQ%3D%3D?line=16'>17</a>\u001b[0m cbtr_model\u001b[39m.\u001b[39;49mfit(train_x, train_y, silent\u001b[39m=\u001b[39;49m\u001b[39mTrue\u001b[39;49;00m)\n\u001b[1;32m     <a href='vscode-notebook-cell:/Users/taehoon/Documents/dacon_movies/data/src/model/model_test.ipynb#W2sZmlsZQ%3D%3D?line=17'>18</a>\u001b[0m y_pred \u001b[39m=\u001b[39m cbtr_model\u001b[39m.\u001b[39mpredict(test_x)\n\u001b[1;32m     <a href='vscode-notebook-cell:/Users/taehoon/Documents/dacon_movies/data/src/model/model_test.ipynb#W2sZmlsZQ%3D%3D?line=18'>19</a>\u001b[0m rmse \u001b[39m=\u001b[39m mean_squared_error(test_y, y_pred, squared\u001b[39m=\u001b[39m\u001b[39mFalse\u001b[39;00m)\n",
      "File \u001b[0;32m~/miniconda3/envs/movies/lib/python3.10/site-packages/catboost/core.py:5590\u001b[0m, in \u001b[0;36mCatBoostRegressor.fit\u001b[0;34m(self, X, y, cat_features, sample_weight, baseline, use_best_model, eval_set, verbose, logging_level, plot, column_description, verbose_eval, metric_period, silent, early_stopping_rounds, save_snapshot, snapshot_file, snapshot_interval, init_model, callbacks, log_cout, log_cerr)\u001b[0m\n\u001b[1;32m   5587\u001b[0m \u001b[39mif\u001b[39;00m \u001b[39m'\u001b[39m\u001b[39mloss_function\u001b[39m\u001b[39m'\u001b[39m \u001b[39min\u001b[39;00m params:\n\u001b[1;32m   5588\u001b[0m     CatBoostRegressor\u001b[39m.\u001b[39m_check_is_compatible_loss(params[\u001b[39m'\u001b[39m\u001b[39mloss_function\u001b[39m\u001b[39m'\u001b[39m])\n\u001b[0;32m-> 5590\u001b[0m \u001b[39mreturn\u001b[39;00m \u001b[39mself\u001b[39;49m\u001b[39m.\u001b[39;49m_fit(X, y, cat_features, \u001b[39mNone\u001b[39;49;00m, \u001b[39mNone\u001b[39;49;00m, \u001b[39mNone\u001b[39;49;00m, sample_weight, \u001b[39mNone\u001b[39;49;00m, \u001b[39mNone\u001b[39;49;00m, \u001b[39mNone\u001b[39;49;00m, \u001b[39mNone\u001b[39;49;00m, baseline,\n\u001b[1;32m   5591\u001b[0m                  use_best_model, eval_set, verbose, logging_level, plot, column_description,\n\u001b[1;32m   5592\u001b[0m                  verbose_eval, metric_period, silent, early_stopping_rounds,\n\u001b[1;32m   5593\u001b[0m                  save_snapshot, snapshot_file, snapshot_interval, init_model, callbacks, log_cout, log_cerr)\n",
      "File \u001b[0;32m~/miniconda3/envs/movies/lib/python3.10/site-packages/catboost/core.py:2278\u001b[0m, in \u001b[0;36mCatBoost._fit\u001b[0;34m(self, X, y, cat_features, text_features, embedding_features, pairs, sample_weight, group_id, group_weight, subgroup_id, pairs_weight, baseline, use_best_model, eval_set, verbose, logging_level, plot, column_description, verbose_eval, metric_period, silent, early_stopping_rounds, save_snapshot, snapshot_file, snapshot_interval, init_model, callbacks, log_cout, log_cerr)\u001b[0m\n\u001b[1;32m   2274\u001b[0m allow_clear_pool \u001b[39m=\u001b[39m train_params[\u001b[39m\"\u001b[39m\u001b[39mallow_clear_pool\u001b[39m\u001b[39m\"\u001b[39m]\n\u001b[1;32m   2276\u001b[0m \u001b[39mwith\u001b[39;00m log_fixup(log_cout, log_cerr), \\\n\u001b[1;32m   2277\u001b[0m     plot_wrapper(plot, [_get_train_dir(\u001b[39mself\u001b[39m\u001b[39m.\u001b[39mget_params())]):\n\u001b[0;32m-> 2278\u001b[0m     \u001b[39mself\u001b[39;49m\u001b[39m.\u001b[39;49m_train(\n\u001b[1;32m   2279\u001b[0m         train_pool,\n\u001b[1;32m   2280\u001b[0m         train_params[\u001b[39m\"\u001b[39;49m\u001b[39meval_sets\u001b[39;49m\u001b[39m\"\u001b[39;49m],\n\u001b[1;32m   2281\u001b[0m         params,\n\u001b[1;32m   2282\u001b[0m         allow_clear_pool,\n\u001b[1;32m   2283\u001b[0m         train_params[\u001b[39m\"\u001b[39;49m\u001b[39minit_model\u001b[39;49m\u001b[39m\"\u001b[39;49m]\n\u001b[1;32m   2284\u001b[0m     )\n\u001b[1;32m   2286\u001b[0m \u001b[39m# Have property feature_importance possibly set\u001b[39;00m\n\u001b[1;32m   2287\u001b[0m loss \u001b[39m=\u001b[39m \u001b[39mself\u001b[39m\u001b[39m.\u001b[39m_object\u001b[39m.\u001b[39m_get_loss_function_name()\n",
      "File \u001b[0;32m~/miniconda3/envs/movies/lib/python3.10/site-packages/catboost/core.py:1705\u001b[0m, in \u001b[0;36m_CatBoostBase._train\u001b[0;34m(self, train_pool, test_pool, params, allow_clear_pool, init_model)\u001b[0m\n\u001b[1;32m   1704\u001b[0m \u001b[39mdef\u001b[39;00m \u001b[39m_train\u001b[39m(\u001b[39mself\u001b[39m, train_pool, test_pool, params, allow_clear_pool, init_model):\n\u001b[0;32m-> 1705\u001b[0m     \u001b[39mself\u001b[39;49m\u001b[39m.\u001b[39;49m_object\u001b[39m.\u001b[39;49m_train(train_pool, test_pool, params, allow_clear_pool, init_model\u001b[39m.\u001b[39;49m_object \u001b[39mif\u001b[39;49;00m init_model \u001b[39melse\u001b[39;49;00m \u001b[39mNone\u001b[39;49;00m)\n\u001b[1;32m   1706\u001b[0m     \u001b[39mself\u001b[39m\u001b[39m.\u001b[39m_set_trained_model_attributes()\n",
      "File \u001b[0;32m_catboost.pyx:4585\u001b[0m, in \u001b[0;36m_catboost._CatBoost._train\u001b[0;34m()\u001b[0m\n",
      "File \u001b[0;32m_catboost.pyx:4634\u001b[0m, in \u001b[0;36m_catboost._CatBoost._train\u001b[0;34m()\u001b[0m\n",
      "\u001b[0;31mKeyboardInterrupt\u001b[0m: "
     ]
    }
   ],
   "source": [
    "pbounds = {\"n_estimators\": (500,1000),\n",
    "           \"depth\": (2,7),\n",
    "           \"learning_rate\": (.01, 0.2),\n",
    "           \"subsample\":(0.6, 1.),\n",
    "           \"l2_leaf_reg\":(0,10),\n",
    "}\n",
    "bo = BayesianOptimization(f=cbt_reg, pbounds=pbounds, verbose=2, random_state=42)\n",
    "bo.maximize(init_points=2, n_iter=500, acq='ei', xi=0.01)\n",
    "high_score = bo.max\n",
    "1-cbt_reg(**high_score[\"params\"])"
   ]
  },
  {
   "cell_type": "code",
   "execution_count": 364,
   "metadata": {},
   "outputs": [],
   "source": [
    "for param in ('depth', \"n_estimators\"):\n",
    "    high_score[\"params\"][param] = int(high_score[\"params\"][param])"
   ]
  },
  {
   "cell_type": "code",
   "execution_count": 365,
   "metadata": {},
   "outputs": [
    {
     "data": {
      "text/plain": [
       "<catboost.core.CatBoostRegressor at 0x17b9fd360>"
      ]
     },
     "execution_count": 365,
     "metadata": {},
     "output_type": "execute_result"
    }
   ],
   "source": [
    "final_model = catboost.CatBoostRegressor(\n",
    "                         **high_score[\"params\"],\n",
    "                         bootstrap_type='Bernoulli',\n",
    "                         eval_metric='RMSE',\n",
    "                         od_type='Iter',\n",
    "                         allow_writing_files=False)\n",
    "final_model.fit(train_x, train_y, silent=True)"
   ]
  },
  {
   "cell_type": "code",
   "execution_count": 381,
   "metadata": {},
   "outputs": [],
   "source": [
    "import time\n",
    "daytime = time.localtime()\n",
    "\n",
    "submission = pd.read_csv(\"/Users/taehoon/Documents/dacon_movies/data/data/submission.csv\", index_col=0)\n",
    "submission[\"box_off_num\"]=final_model.predict(test)\n",
    "submission.to_csv(\"submission__\"+\"_\".join(list(map(str,daytime)))+\"__.csv\")"
   ]
  },
  {
   "cell_type": "code",
   "execution_count": null,
   "metadata": {},
   "outputs": [],
   "source": []
  }
 ],
 "metadata": {
  "kernelspec": {
   "display_name": "Python 3.10.6 ('movies')",
   "language": "python",
   "name": "python3"
  },
  "language_info": {
   "codemirror_mode": {
    "name": "ipython",
    "version": 3
   },
   "file_extension": ".py",
   "mimetype": "text/x-python",
   "name": "python",
   "nbconvert_exporter": "python",
   "pygments_lexer": "ipython3",
   "version": "3.10.6"
  },
  "orig_nbformat": 4,
  "vscode": {
   "interpreter": {
    "hash": "a41dc62fbff254c859b6c39725daa88914fa1a56e355f4f0850ddedaa8a6d2c3"
   }
  }
 },
 "nbformat": 4,
 "nbformat_minor": 2
}
