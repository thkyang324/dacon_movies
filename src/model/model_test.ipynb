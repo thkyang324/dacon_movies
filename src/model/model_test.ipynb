{
 "cells": [
  {
   "cell_type": "code",
   "execution_count": 319,
   "metadata": {},
   "outputs": [],
   "source": [
    "import xgboost as xgb\n",
    "import catboost\n",
    "import matplotlib.pyplot as plt\n",
    "from sklearn.model_selection import train_test_split\n",
    "from sklearn.metrics import mean_squared_error, r2_score\n",
    "import pandas as pd\n",
    "from bayes_opt import BayesianOptimization\n",
    "import numpy as np"
   ]
  },
  {
   "cell_type": "code",
   "execution_count": 320,
   "metadata": {},
   "outputs": [],
   "source": [
    "path = \"/Users/taehoon/Documents/dacon_movies/data/data\"\n",
    "route = path+\"/preprocessed_data/preprocessed_\"\n",
    "train, test = pd.read_csv(route+\"train.csv\", index_col=0), pd.read_csv(route+\"test.csv\", index_col=0)\n"
   ]
  },
  {
   "cell_type": "code",
   "execution_count": 321,
   "metadata": {},
   "outputs": [],
   "source": [
    "def label_encoding(train, test):\n",
    "    all_df = pd.concat([train, test], ignore_index=True)\n",
    "    label_encoder = {}\n",
    "    str_columns = [(i, j) for i, j in zip(train.dtypes, train.columns)]\n",
    "    for tup in str_columns:\n",
    "        dtype, column = tup\n",
    "        if dtype != \"object\":\n",
    "            continue\n",
    "        val2idx = {i:j for j, i in enumerate(all_df[column].unique())}\n",
    "        label_encoder[column] = val2idx\n",
    "        train[column] = train[column].map(val2idx)\n",
    "        test[column] = test[column].map(val2idx)\n",
    "    return train, test, label_encoder\n",
    "train, test, _ = label_encoding(train, test)"
   ]
  },
  {
   "cell_type": "code",
   "execution_count": 322,
   "metadata": {},
   "outputs": [],
   "source": [
    "train_x, test_x, train_y, test_y = train_test_split(train.drop(\"box_off_num\",axis=1),train[\"box_off_num\"])\n",
    "\n",
    "def cbt_reg(n_estimators, depth, learning_rate, subsample, l2_leaf_reg):\n",
    "    params = {\n",
    "        \"n_estimators\":int(n_estimators),\n",
    "        \"depth\":int(depth) ,\n",
    "        \"learning_rate\":learning_rate ,\n",
    "        \"subsample\":subsample ,\n",
    "        \"l2_leaf_reg\":l2_leaf_reg ,\n",
    "        }\n",
    "    cbtr_model = catboost.CatBoostRegressor(\n",
    "                             **params,\n",
    "                             bootstrap_type='Bernoulli',\n",
    "                             eval_metric='RMSE',\n",
    "                             od_type='Iter',\n",
    "                             allow_writing_files=False)\n",
    "    cbtr_model.fit(train_x, train_y, silent=True)\n",
    "    y_pred = cbtr_model.predict(test_x)\n",
    "    rmse = mean_squared_error(test_y, y_pred, squared=False)\n",
    "    r2 = r2_score(test_y, y_pred)\n",
    "    return 1-rmse"
   ]
  },
  {
   "cell_type": "code",
   "execution_count": 323,
   "metadata": {},
   "outputs": [
    {
     "name": "stdout",
     "output_type": "stream",
     "text": [
      "|   iter    |  target   |   depth   | l2_lea... | learni... | n_esti... | subsample |\n",
      "-------------------------------------------------------------------------------------\n",
      "| \u001b[0m1        \u001b[0m | \u001b[0m-1.641e+0\u001b[0m | \u001b[0m3.873    \u001b[0m | \u001b[0m9.507    \u001b[0m | \u001b[0m0.1491   \u001b[0m | \u001b[0m299.7    \u001b[0m | \u001b[0m0.6624   \u001b[0m |\n",
      "| \u001b[0m2        \u001b[0m | \u001b[0m-1.727e+0\u001b[0m | \u001b[0m2.78     \u001b[0m | \u001b[0m0.5808   \u001b[0m | \u001b[0m0.1746   \u001b[0m | \u001b[0m300.3    \u001b[0m | \u001b[0m0.8832   \u001b[0m |\n",
      "| \u001b[95m3        \u001b[0m | \u001b[95m-1.552e+0\u001b[0m | \u001b[95m3.936    \u001b[0m | \u001b[95m6.911    \u001b[0m | \u001b[95m0.05903  \u001b[0m | \u001b[95m358.0    \u001b[0m | \u001b[95m0.8439   \u001b[0m |\n",
      "| \u001b[95m4        \u001b[0m | \u001b[95m-1.445e+0\u001b[0m | \u001b[95m4.532    \u001b[0m | \u001b[95m7.151    \u001b[0m | \u001b[95m0.02087  \u001b[0m | \u001b[95m358.0    \u001b[0m | \u001b[95m0.6805   \u001b[0m |\n",
      "| \u001b[0m5        \u001b[0m | \u001b[0m-1.477e+0\u001b[0m | \u001b[0m4.86     \u001b[0m | \u001b[0m7.283    \u001b[0m | \u001b[0m0.01     \u001b[0m | \u001b[0m358.1    \u001b[0m | \u001b[0m0.6      \u001b[0m |\n",
      "| \u001b[0m6        \u001b[0m | \u001b[0m-1.541e+0\u001b[0m | \u001b[0m4.236    \u001b[0m | \u001b[0m7.795    \u001b[0m | \u001b[0m0.06002  \u001b[0m | \u001b[0m358.6    \u001b[0m | \u001b[0m0.9848   \u001b[0m |\n",
      "| \u001b[0m7        \u001b[0m | \u001b[0m-1.555e+0\u001b[0m | \u001b[0m4.541    \u001b[0m | \u001b[0m7.067    \u001b[0m | \u001b[0m0.1024   \u001b[0m | \u001b[0m357.6    \u001b[0m | \u001b[0m0.8049   \u001b[0m |\n",
      "| \u001b[0m8        \u001b[0m | \u001b[0m-1.473e+0\u001b[0m | \u001b[0m4.553    \u001b[0m | \u001b[0m7.088    \u001b[0m | \u001b[0m0.01     \u001b[0m | \u001b[0m358.3    \u001b[0m | \u001b[0m0.6      \u001b[0m |\n",
      "| \u001b[0m9        \u001b[0m | \u001b[0m-1.55e+06\u001b[0m | \u001b[0m2.377    \u001b[0m | \u001b[0m8.119    \u001b[0m | \u001b[0m0.09867  \u001b[0m | \u001b[0m226.4    \u001b[0m | \u001b[0m0.7195   \u001b[0m |\n",
      "| \u001b[0m10       \u001b[0m | \u001b[0m-1.54e+06\u001b[0m | \u001b[0m4.179    \u001b[0m | \u001b[0m7.639    \u001b[0m | \u001b[0m0.1417   \u001b[0m | \u001b[0m358.9    \u001b[0m | \u001b[0m0.9694   \u001b[0m |\n",
      "| \u001b[0m11       \u001b[0m | \u001b[0m-1.577e+0\u001b[0m | \u001b[0m4.537    \u001b[0m | \u001b[0m7.564    \u001b[0m | \u001b[0m0.1889   \u001b[0m | \u001b[0m359.0    \u001b[0m | \u001b[0m0.7575   \u001b[0m |\n",
      "| \u001b[0m12       \u001b[0m | \u001b[0m-1.511e+0\u001b[0m | \u001b[0m2.668    \u001b[0m | \u001b[0m7.373    \u001b[0m | \u001b[0m0.06726  \u001b[0m | \u001b[0m197.4    \u001b[0m | \u001b[0m0.6907   \u001b[0m |\n",
      "| \u001b[0m13       \u001b[0m | \u001b[0m-1.467e+0\u001b[0m | \u001b[0m3.357    \u001b[0m | \u001b[0m6.516    \u001b[0m | \u001b[0m0.02181  \u001b[0m | \u001b[0m336.8    \u001b[0m | \u001b[0m0.9837   \u001b[0m |\n",
      "| \u001b[0m14       \u001b[0m | \u001b[0m-1.503e+0\u001b[0m | \u001b[0m3.262    \u001b[0m | \u001b[0m6.912    \u001b[0m | \u001b[0m0.02972  \u001b[0m | \u001b[0m337.1    \u001b[0m | \u001b[0m1.0      \u001b[0m |\n",
      "| \u001b[0m15       \u001b[0m | \u001b[0m-1.647e+0\u001b[0m | \u001b[0m2.846    \u001b[0m | \u001b[0m6.641    \u001b[0m | \u001b[0m0.1922   \u001b[0m | \u001b[0m336.2    \u001b[0m | \u001b[0m0.6045   \u001b[0m |\n",
      "| \u001b[0m16       \u001b[0m | \u001b[0m-1.503e+0\u001b[0m | \u001b[0m4.528    \u001b[0m | \u001b[0m5.117    \u001b[0m | \u001b[0m0.1604   \u001b[0m | \u001b[0m232.6    \u001b[0m | \u001b[0m0.969    \u001b[0m |\n",
      "| \u001b[0m17       \u001b[0m | \u001b[0m-1.658e+0\u001b[0m | \u001b[0m3.72     \u001b[0m | \u001b[0m6.309    \u001b[0m | \u001b[0m0.1859   \u001b[0m | \u001b[0m337.8    \u001b[0m | \u001b[0m0.8462   \u001b[0m |\n",
      "| \u001b[0m18       \u001b[0m | \u001b[0m-1.477e+0\u001b[0m | \u001b[0m4.473    \u001b[0m | \u001b[0m7.354    \u001b[0m | \u001b[0m0.01     \u001b[0m | \u001b[0m358.1    \u001b[0m | \u001b[0m0.6      \u001b[0m |\n",
      "| \u001b[0m19       \u001b[0m | \u001b[0m-1.557e+0\u001b[0m | \u001b[0m4.831    \u001b[0m | \u001b[0m0.5216   \u001b[0m | \u001b[0m0.07919  \u001b[0m | \u001b[0m190.8    \u001b[0m | \u001b[0m0.662    \u001b[0m |\n",
      "| \u001b[0m20       \u001b[0m | \u001b[0m-1.559e+0\u001b[0m | \u001b[0m4.38     \u001b[0m | \u001b[0m5.09     \u001b[0m | \u001b[0m0.1437   \u001b[0m | \u001b[0m232.4    \u001b[0m | \u001b[0m0.9136   \u001b[0m |\n",
      "| \u001b[0m21       \u001b[0m | \u001b[0m-1.509e+0\u001b[0m | \u001b[0m4.824    \u001b[0m | \u001b[0m5.17     \u001b[0m | \u001b[0m0.1937   \u001b[0m | \u001b[0m233.0    \u001b[0m | \u001b[0m1.0      \u001b[0m |\n",
      "| \u001b[0m22       \u001b[0m | \u001b[0m-1.551e+0\u001b[0m | \u001b[0m3.382    \u001b[0m | \u001b[0m5.813    \u001b[0m | \u001b[0m0.06634  \u001b[0m | \u001b[0m336.6    \u001b[0m | \u001b[0m0.9577   \u001b[0m |\n",
      "| \u001b[0m23       \u001b[0m | \u001b[0m-1.506e+0\u001b[0m | \u001b[0m5.277    \u001b[0m | \u001b[0m5.478    \u001b[0m | \u001b[0m0.07407  \u001b[0m | \u001b[0m232.6    \u001b[0m | \u001b[0m0.9807   \u001b[0m |\n",
      "| \u001b[0m24       \u001b[0m | \u001b[0m-1.538e+0\u001b[0m | \u001b[0m4.811    \u001b[0m | \u001b[0m5.745    \u001b[0m | \u001b[0m0.1698   \u001b[0m | \u001b[0m232.6    \u001b[0m | \u001b[0m0.9886   \u001b[0m |\n",
      "| \u001b[0m25       \u001b[0m | \u001b[0m-1.463e+0\u001b[0m | \u001b[0m5.053    \u001b[0m | \u001b[0m4.869    \u001b[0m | \u001b[0m0.06283  \u001b[0m | \u001b[0m232.6    \u001b[0m | \u001b[0m1.0      \u001b[0m |\n",
      "| \u001b[0m26       \u001b[0m | \u001b[0m-1.475e+0\u001b[0m | \u001b[0m3.739    \u001b[0m | \u001b[0m6.709    \u001b[0m | \u001b[0m0.02309  \u001b[0m | \u001b[0m336.4    \u001b[0m | \u001b[0m0.8615   \u001b[0m |\n",
      "| \u001b[0m27       \u001b[0m | \u001b[0m-1.548e+0\u001b[0m | \u001b[0m4.801    \u001b[0m | \u001b[0m6.837    \u001b[0m | \u001b[0m0.132    \u001b[0m | \u001b[0m358.3    \u001b[0m | \u001b[0m0.8881   \u001b[0m |\n",
      "| \u001b[0m28       \u001b[0m | \u001b[0m-1.505e+0\u001b[0m | \u001b[0m4.597    \u001b[0m | \u001b[0m4.48     \u001b[0m | \u001b[0m0.07476  \u001b[0m | \u001b[0m233.1    \u001b[0m | \u001b[0m0.8088   \u001b[0m |\n",
      "| \u001b[95m29       \u001b[0m | \u001b[95m-1.442e+0\u001b[0m | \u001b[95m5.21     \u001b[0m | \u001b[95m4.451    \u001b[0m | \u001b[95m0.1496   \u001b[0m | \u001b[95m232.6    \u001b[0m | \u001b[95m0.7827   \u001b[0m |\n",
      "| \u001b[0m30       \u001b[0m | \u001b[0m-1.543e+0\u001b[0m | \u001b[0m5.197    \u001b[0m | \u001b[0m4.7      \u001b[0m | \u001b[0m0.2      \u001b[0m | \u001b[0m232.7    \u001b[0m | \u001b[0m0.676    \u001b[0m |\n",
      "| \u001b[0m31       \u001b[0m | \u001b[0m-1.475e+0\u001b[0m | \u001b[0m5.163    \u001b[0m | \u001b[0m4.376    \u001b[0m | \u001b[0m0.08613  \u001b[0m | \u001b[0m232.6    \u001b[0m | \u001b[0m0.9271   \u001b[0m |\n",
      "| \u001b[95m32       \u001b[0m | \u001b[95m-1.409e+0\u001b[0m | \u001b[95m4.974    \u001b[0m | \u001b[95m4.213    \u001b[0m | \u001b[95m0.03012  \u001b[0m | \u001b[95m232.4    \u001b[0m | \u001b[95m0.6864   \u001b[0m |\n",
      "| \u001b[0m33       \u001b[0m | \u001b[0m-1.536e+0\u001b[0m | \u001b[0m5.094    \u001b[0m | \u001b[0m4.261    \u001b[0m | \u001b[0m0.1046   \u001b[0m | \u001b[0m232.5    \u001b[0m | \u001b[0m0.6311   \u001b[0m |\n",
      "| \u001b[0m34       \u001b[0m | \u001b[0m-1.47e+06\u001b[0m | \u001b[0m5.216    \u001b[0m | \u001b[0m5.199    \u001b[0m | \u001b[0m0.1572   \u001b[0m | \u001b[0m232.6    \u001b[0m | \u001b[0m0.8258   \u001b[0m |\n",
      "| \u001b[0m35       \u001b[0m | \u001b[0m-1.577e+0\u001b[0m | \u001b[0m4.154    \u001b[0m | \u001b[0m7.044    \u001b[0m | \u001b[0m0.1815   \u001b[0m | \u001b[0m305.2    \u001b[0m | \u001b[0m0.6281   \u001b[0m |\n",
      "| \u001b[0m36       \u001b[0m | \u001b[0m-1.59e+06\u001b[0m | \u001b[0m4.869    \u001b[0m | \u001b[0m3.948    \u001b[0m | \u001b[0m0.1614   \u001b[0m | \u001b[0m232.1    \u001b[0m | \u001b[0m0.7615   \u001b[0m |\n",
      "| \u001b[0m37       \u001b[0m | \u001b[0m-1.549e+0\u001b[0m | \u001b[0m3.424    \u001b[0m | \u001b[0m0.4874   \u001b[0m | \u001b[0m0.02813  \u001b[0m | \u001b[0m374.6    \u001b[0m | \u001b[0m0.9895   \u001b[0m |\n",
      "| \u001b[0m38       \u001b[0m | \u001b[0m-1.472e+0\u001b[0m | \u001b[0m4.771    \u001b[0m | \u001b[0m7.412    \u001b[0m | \u001b[0m0.02964  \u001b[0m | \u001b[0m357.9    \u001b[0m | \u001b[0m0.9052   \u001b[0m |\n",
      "| \u001b[0m39       \u001b[0m | \u001b[0m-1.5e+06 \u001b[0m | \u001b[0m4.846    \u001b[0m | \u001b[0m4.526    \u001b[0m | \u001b[0m0.1429   \u001b[0m | \u001b[0m232.3    \u001b[0m | \u001b[0m0.972    \u001b[0m |\n",
      "| \u001b[0m40       \u001b[0m | \u001b[0m-1.566e+0\u001b[0m | \u001b[0m5.085    \u001b[0m | \u001b[0m5.174    \u001b[0m | \u001b[0m0.1509   \u001b[0m | \u001b[0m232.8    \u001b[0m | \u001b[0m0.6976   \u001b[0m |\n",
      "| \u001b[0m41       \u001b[0m | \u001b[0m-1.566e+0\u001b[0m | \u001b[0m3.406    \u001b[0m | \u001b[0m8.742    \u001b[0m | \u001b[0m0.1109   \u001b[0m | \u001b[0m273.6    \u001b[0m | \u001b[0m0.9837   \u001b[0m |\n",
      "| \u001b[0m42       \u001b[0m | \u001b[0m-1.451e+0\u001b[0m | \u001b[0m5.083    \u001b[0m | \u001b[0m7.47     \u001b[0m | \u001b[0m0.03229  \u001b[0m | \u001b[0m358.2    \u001b[0m | \u001b[0m0.877    \u001b[0m |\n",
      "| \u001b[0m43       \u001b[0m | \u001b[0m-1.685e+0\u001b[0m | \u001b[0m2.435    \u001b[0m | \u001b[0m8.813    \u001b[0m | \u001b[0m0.1676   \u001b[0m | \u001b[0m385.1    \u001b[0m | \u001b[0m0.8028   \u001b[0m |\n",
      "| \u001b[0m44       \u001b[0m | \u001b[0m-1.499e+0\u001b[0m | \u001b[0m5.105    \u001b[0m | \u001b[0m3.891    \u001b[0m | \u001b[0m0.08718  \u001b[0m | \u001b[0m232.6    \u001b[0m | \u001b[0m0.6689   \u001b[0m |\n",
      "| \u001b[0m45       \u001b[0m | \u001b[0m-1.624e+0\u001b[0m | \u001b[0m2.735    \u001b[0m | \u001b[0m6.017    \u001b[0m | \u001b[0m0.1734   \u001b[0m | \u001b[0m322.0    \u001b[0m | \u001b[0m0.9606   \u001b[0m |\n",
      "| \u001b[0m46       \u001b[0m | \u001b[0m-1.493e+0\u001b[0m | \u001b[0m4.764    \u001b[0m | \u001b[0m6.65     \u001b[0m | \u001b[0m0.05214  \u001b[0m | \u001b[0m277.3    \u001b[0m | \u001b[0m0.6175   \u001b[0m |\n",
      "| \u001b[0m47       \u001b[0m | \u001b[0m-1.544e+0\u001b[0m | \u001b[0m5.313    \u001b[0m | \u001b[0m4.417    \u001b[0m | \u001b[0m0.121    \u001b[0m | \u001b[0m232.7    \u001b[0m | \u001b[0m0.7144   \u001b[0m |\n",
      "| \u001b[0m48       \u001b[0m | \u001b[0m-1.656e+0\u001b[0m | \u001b[0m3.589    \u001b[0m | \u001b[0m6.717    \u001b[0m | \u001b[0m0.1865   \u001b[0m | \u001b[0m336.6    \u001b[0m | \u001b[0m0.9509   \u001b[0m |\n",
      "| \u001b[0m49       \u001b[0m | \u001b[0m-1.437e+0\u001b[0m | \u001b[0m6.564    \u001b[0m | \u001b[0m4.127    \u001b[0m | \u001b[0m0.09484  \u001b[0m | \u001b[0m322.8    \u001b[0m | \u001b[0m0.961    \u001b[0m |\n",
      "| \u001b[0m50       \u001b[0m | \u001b[0m-1.52e+06\u001b[0m | \u001b[0m4.88     \u001b[0m | \u001b[0m7.423    \u001b[0m | \u001b[0m0.07437  \u001b[0m | \u001b[0m358.1    \u001b[0m | \u001b[0m0.882    \u001b[0m |\n",
      "| \u001b[0m51       \u001b[0m | \u001b[0m-1.492e+0\u001b[0m | \u001b[0m4.828    \u001b[0m | \u001b[0m2.391    \u001b[0m | \u001b[0m0.03043  \u001b[0m | \u001b[0m361.6    \u001b[0m | \u001b[0m0.982    \u001b[0m |\n",
      "| \u001b[0m52       \u001b[0m | \u001b[0m-1.525e+0\u001b[0m | \u001b[0m5.076    \u001b[0m | \u001b[0m7.543    \u001b[0m | \u001b[0m0.1332   \u001b[0m | \u001b[0m358.0    \u001b[0m | \u001b[0m0.9051   \u001b[0m |\n",
      "=====================================================================================\n"
     ]
    },
    {
     "data": {
      "text/plain": [
       "1408791.8124822623"
      ]
     },
     "execution_count": 323,
     "metadata": {},
     "output_type": "execute_result"
    }
   ],
   "source": [
    "pbounds = {\"n_estimators\": (150,400),\n",
    "           \"depth\": (2,7),\n",
    "           \"learning_rate\": (.01, 0.2),\n",
    "           \"subsample\":(0.6, 1.),\n",
    "           \"l2_leaf_reg\":(0,10),\n",
    "}\n",
    "bo = BayesianOptimization(f=cbt_reg, pbounds=pbounds, verbose=2, random_state=42)\n",
    "bo.maximize(init_points=2, n_iter=50, acq='ei', xi=0.01)\n",
    "high_score = bo.max\n",
    "1-cbt_reg(**high_score[\"params\"])"
   ]
  },
  {
   "cell_type": "code",
   "execution_count": null,
   "metadata": {},
   "outputs": [],
   "source": []
  },
  {
   "cell_type": "code",
   "execution_count": null,
   "metadata": {},
   "outputs": [],
   "source": []
  },
  {
   "cell_type": "code",
   "execution_count": null,
   "metadata": {},
   "outputs": [],
   "source": []
  }
 ],
 "metadata": {
  "kernelspec": {
   "display_name": "Python 3.10.6 ('movies')",
   "language": "python",
   "name": "python3"
  },
  "language_info": {
   "codemirror_mode": {
    "name": "ipython",
    "version": 3
   },
   "file_extension": ".py",
   "mimetype": "text/x-python",
   "name": "python",
   "nbconvert_exporter": "python",
   "pygments_lexer": "ipython3",
   "version": "3.10.6"
  },
  "orig_nbformat": 4,
  "vscode": {
   "interpreter": {
    "hash": "a41dc62fbff254c859b6c39725daa88914fa1a56e355f4f0850ddedaa8a6d2c3"
   }
  }
 },
 "nbformat": 4,
 "nbformat_minor": 2
}
