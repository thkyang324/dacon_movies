{
 "cells": [
  {
   "cell_type": "code",
   "execution_count": 297,
   "metadata": {},
   "outputs": [],
   "source": [
    "import xgboost as xgb\n",
    "import catboost\n",
    "import matplotlib.pyplot as plt\n",
    "from sklearn.model_selection import train_test_split\n",
    "from sklearn.metrics import mean_squared_error, r2_score\n",
    "import pandas as pd\n",
    "from bayes_opt import BayesianOptimization\n",
    "import numpy as np"
   ]
  },
  {
   "cell_type": "code",
   "execution_count": 298,
   "metadata": {},
   "outputs": [],
   "source": [
    "path = \"/Users/taehoon/Documents/dacon_movies/data/data\"\n",
    "route = path+\"/preprocessed_data/preprocessed_\"\n",
    "train, test = pd.read_csv(route+\"train.csv\").drop(\"Unnamed: 0\",axis=1), pd.read_csv(route+\"test.csv\").drop(\"Unnamed: 0\", axis=1)\n"
   ]
  },
  {
   "cell_type": "code",
   "execution_count": 299,
   "metadata": {},
   "outputs": [],
   "source": [
    "def label_encoding(train, test):\n",
    "    all_df = pd.concat([train, test], ignore_index=True)\n",
    "    label_encoder = {}\n",
    "    str_columns = [(i, j) for i, j in zip(train.dtypes, train.columns)]\n",
    "    for tup in str_columns:\n",
    "        dtype, column = tup\n",
    "        if dtype != \"object\":\n",
    "            continue\n",
    "        val2idx = {i:j for j, i in enumerate(all_df[column].unique())}\n",
    "        label_encoder[column] = val2idx\n",
    "        train[column] = train[column].map(val2idx)\n",
    "        test[column] = test[column].map(val2idx)\n",
    "    return train, test, label_encoder\n",
    "train, test, _ = label_encoding(train, test)"
   ]
  },
  {
   "cell_type": "code",
   "execution_count": 300,
   "metadata": {},
   "outputs": [],
   "source": [
    "train_x, test_x, train_y, test_y = train_test_split(train.drop(\"box_off_num\",axis=1),train[\"box_off_num\"])\n",
    "\n",
    "def cbt_reg(n_estimators, depth, learning_rate, subsample, l2_leaf_reg):\n",
    "    params = {\n",
    "        \"n_estimators\":int(n_estimators),\n",
    "        \"depth\":int(depth) ,\n",
    "        \"learning_rate\":learning_rate ,\n",
    "        \"subsample\":subsample ,\n",
    "        \"l2_leaf_reg\":l2_leaf_reg ,\n",
    "        }\n",
    "    cbtr_model = catboost.CatBoostRegressor(\n",
    "                             **params,\n",
    "                             bootstrap_type='Bernoulli',\n",
    "                             eval_metric='RMSE',\n",
    "                             od_type='Iter',\n",
    "                             allow_writing_files=False)\n",
    "    cbtr_model.fit(train_x, train_y, silent=True)\n",
    "    y_pred = cbtr_model.predict(test_x)\n",
    "    rmse = mean_squared_error(test_y, y_pred, squared=False)\n",
    "    r2 = r2_score(test_y, y_pred)\n",
    "    return 1-rmse"
   ]
  },
  {
   "cell_type": "code",
   "execution_count": 301,
   "metadata": {},
   "outputs": [
    {
     "name": "stdout",
     "output_type": "stream",
     "text": [
      "|   iter    |  target   |   depth   | l2_lea... | learni... | n_esti... | subsample |\n",
      "-------------------------------------------------------------------------------------\n",
      "| \u001b[0m1        \u001b[0m | \u001b[0m-1.273e+0\u001b[0m | \u001b[0m3.873    \u001b[0m | \u001b[0m9.507    \u001b[0m | \u001b[0m0.1491   \u001b[0m | \u001b[0m299.7    \u001b[0m | \u001b[0m0.6624   \u001b[0m |\n",
      "| \u001b[0m2        \u001b[0m | \u001b[0m-1.293e+0\u001b[0m | \u001b[0m2.78     \u001b[0m | \u001b[0m0.5808   \u001b[0m | \u001b[0m0.1746   \u001b[0m | \u001b[0m300.3    \u001b[0m | \u001b[0m0.8832   \u001b[0m |\n",
      "| \u001b[95m3        \u001b[0m | \u001b[95m-1.15e+06\u001b[0m | \u001b[95m3.936    \u001b[0m | \u001b[95m6.911    \u001b[0m | \u001b[95m0.05903  \u001b[0m | \u001b[95m358.0    \u001b[0m | \u001b[95m0.8439   \u001b[0m |\n",
      "| \u001b[95m4        \u001b[0m | \u001b[95m-1.026e+0\u001b[0m | \u001b[95m4.532    \u001b[0m | \u001b[95m7.151    \u001b[0m | \u001b[95m0.02087  \u001b[0m | \u001b[95m358.0    \u001b[0m | \u001b[95m0.6805   \u001b[0m |\n",
      "| \u001b[95m5        \u001b[0m | \u001b[95m-9.961e+0\u001b[0m | \u001b[95m4.796    \u001b[0m | \u001b[95m7.258    \u001b[0m | \u001b[95m0.01     \u001b[0m | \u001b[95m358.1    \u001b[0m | \u001b[95m0.6079   \u001b[0m |\n",
      "| \u001b[95m6        \u001b[0m | \u001b[95m-9.934e+0\u001b[0m | \u001b[95m5.447    \u001b[0m | \u001b[95m7.086    \u001b[0m | \u001b[95m0.01     \u001b[0m | \u001b[95m358.0    \u001b[0m | \u001b[95m1.0      \u001b[0m |\n",
      "| \u001b[0m7        \u001b[0m | \u001b[0m-1.006e+0\u001b[0m | \u001b[0m5.33     \u001b[0m | \u001b[0m7.816    \u001b[0m | \u001b[0m0.01     \u001b[0m | \u001b[0m358.7    \u001b[0m | \u001b[0m0.9743   \u001b[0m |\n",
      "| \u001b[95m8        \u001b[0m | \u001b[95m-9.906e+0\u001b[0m | \u001b[95m5.368    \u001b[0m | \u001b[95m8.07     \u001b[0m | \u001b[95m0.01     \u001b[0m | \u001b[95m357.4    \u001b[0m | \u001b[95m0.6712   \u001b[0m |\n",
      "| \u001b[0m9        \u001b[0m | \u001b[0m-1.143e+0\u001b[0m | \u001b[0m6.473    \u001b[0m | \u001b[0m7.613    \u001b[0m | \u001b[0m0.1318   \u001b[0m | \u001b[0m356.8    \u001b[0m | \u001b[0m0.6046   \u001b[0m |\n",
      "| \u001b[0m10       \u001b[0m | \u001b[0m-1.012e+0\u001b[0m | \u001b[0m4.745    \u001b[0m | \u001b[0m8.51     \u001b[0m | \u001b[0m0.01693  \u001b[0m | \u001b[0m357.5    \u001b[0m | \u001b[0m0.8885   \u001b[0m |\n",
      "| \u001b[0m11       \u001b[0m | \u001b[0m-1.107e+0\u001b[0m | \u001b[0m5.887    \u001b[0m | \u001b[0m6.263    \u001b[0m | \u001b[0m0.129    \u001b[0m | \u001b[0m358.9    \u001b[0m | \u001b[0m0.8156   \u001b[0m |\n",
      "| \u001b[0m12       \u001b[0m | \u001b[0m-1.02e+06\u001b[0m | \u001b[0m5.308    \u001b[0m | \u001b[0m9.349    \u001b[0m | \u001b[0m0.03255  \u001b[0m | \u001b[0m358.9    \u001b[0m | \u001b[0m0.7659   \u001b[0m |\n",
      "| \u001b[0m13       \u001b[0m | \u001b[0m-1.065e+0\u001b[0m | \u001b[0m4.967    \u001b[0m | \u001b[0m7.441    \u001b[0m | \u001b[0m0.02713  \u001b[0m | \u001b[0m357.8    \u001b[0m | \u001b[0m0.9001   \u001b[0m |\n",
      "| \u001b[0m14       \u001b[0m | \u001b[0m-1.047e+0\u001b[0m | \u001b[0m5.082    \u001b[0m | \u001b[0m7.444    \u001b[0m | \u001b[0m0.03938  \u001b[0m | \u001b[0m358.9    \u001b[0m | \u001b[0m0.7932   \u001b[0m |\n",
      "| \u001b[0m15       \u001b[0m | \u001b[0m-1.141e+0\u001b[0m | \u001b[0m5.973    \u001b[0m | \u001b[0m8.169    \u001b[0m | \u001b[0m0.08654  \u001b[0m | \u001b[0m357.9    \u001b[0m | \u001b[0m0.8381   \u001b[0m |\n",
      "| \u001b[0m16       \u001b[0m | \u001b[0m-1.175e+0\u001b[0m | \u001b[0m4.528    \u001b[0m | \u001b[0m5.117    \u001b[0m | \u001b[0m0.1604   \u001b[0m | \u001b[0m232.6    \u001b[0m | \u001b[0m0.969    \u001b[0m |\n",
      "| \u001b[0m17       \u001b[0m | \u001b[0m-1.133e+0\u001b[0m | \u001b[0m5.101    \u001b[0m | \u001b[0m8.307    \u001b[0m | \u001b[0m0.195    \u001b[0m | \u001b[0m359.0    \u001b[0m | \u001b[0m0.6311   \u001b[0m |\n",
      "| \u001b[95m18       \u001b[0m | \u001b[95m-9.7e+05 \u001b[0m | \u001b[95m5.091    \u001b[0m | \u001b[95m8.258    \u001b[0m | \u001b[95m0.01     \u001b[0m | \u001b[95m357.2    \u001b[0m | \u001b[95m0.6      \u001b[0m |\n",
      "| \u001b[0m19       \u001b[0m | \u001b[0m-1.164e+0\u001b[0m | \u001b[0m5.257    \u001b[0m | \u001b[0m8.419    \u001b[0m | \u001b[0m0.1706   \u001b[0m | \u001b[0m357.2    \u001b[0m | \u001b[0m0.6934   \u001b[0m |\n",
      "| \u001b[0m20       \u001b[0m | \u001b[0m-1.235e+0\u001b[0m | \u001b[0m4.68     \u001b[0m | \u001b[0m8.016    \u001b[0m | \u001b[0m0.1669   \u001b[0m | \u001b[0m287.3    \u001b[0m | \u001b[0m0.8185   \u001b[0m |\n",
      "| \u001b[0m21       \u001b[0m | \u001b[0m-1.225e+0\u001b[0m | \u001b[0m4.764    \u001b[0m | \u001b[0m8.047    \u001b[0m | \u001b[0m0.1002   \u001b[0m | \u001b[0m357.8    \u001b[0m | \u001b[0m0.6175   \u001b[0m |\n",
      "| \u001b[0m22       \u001b[0m | \u001b[0m-1.09e+06\u001b[0m | \u001b[0m5.526    \u001b[0m | \u001b[0m8.132    \u001b[0m | \u001b[0m0.05377  \u001b[0m | \u001b[0m357.1    \u001b[0m | \u001b[0m0.7481   \u001b[0m |\n",
      "| \u001b[0m23       \u001b[0m | \u001b[0m-1.041e+0\u001b[0m | \u001b[0m5.589    \u001b[0m | \u001b[0m9.134    \u001b[0m | \u001b[0m0.03272  \u001b[0m | \u001b[0m359.1    \u001b[0m | \u001b[0m0.9481   \u001b[0m |\n",
      "| \u001b[0m24       \u001b[0m | \u001b[0m-1.07e+06\u001b[0m | \u001b[0m5.569    \u001b[0m | \u001b[0m9.303    \u001b[0m | \u001b[0m0.03557  \u001b[0m | \u001b[0m359.3    \u001b[0m | \u001b[0m0.6107   \u001b[0m |\n",
      "| \u001b[0m25       \u001b[0m | \u001b[0m-1.129e+0\u001b[0m | \u001b[0m5.307    \u001b[0m | \u001b[0m9.41     \u001b[0m | \u001b[0m0.1547   \u001b[0m | \u001b[0m359.4    \u001b[0m | \u001b[0m0.8095   \u001b[0m |\n",
      "| \u001b[0m26       \u001b[0m | \u001b[0m-1.135e+0\u001b[0m | \u001b[0m5.253    \u001b[0m | \u001b[0m8.517    \u001b[0m | \u001b[0m0.08151  \u001b[0m | \u001b[0m390.5    \u001b[0m | \u001b[0m0.6838   \u001b[0m |\n",
      "| \u001b[0m27       \u001b[0m | \u001b[0m-1.114e+0\u001b[0m | \u001b[0m5.756    \u001b[0m | \u001b[0m6.854    \u001b[0m | \u001b[0m0.0707   \u001b[0m | \u001b[0m357.9    \u001b[0m | \u001b[0m0.9564   \u001b[0m |\n",
      "| \u001b[0m28       \u001b[0m | \u001b[0m-1.188e+0\u001b[0m | \u001b[0m5.145    \u001b[0m | \u001b[0m7.627    \u001b[0m | \u001b[0m0.1811   \u001b[0m | \u001b[0m358.3    \u001b[0m | \u001b[0m0.9262   \u001b[0m |\n",
      "| \u001b[0m29       \u001b[0m | \u001b[0m-1.244e+0\u001b[0m | \u001b[0m4.263    \u001b[0m | \u001b[0m7.412    \u001b[0m | \u001b[0m0.1932   \u001b[0m | \u001b[0m357.9    \u001b[0m | \u001b[0m0.6558   \u001b[0m |\n",
      "| \u001b[0m30       \u001b[0m | \u001b[0m-1.104e+0\u001b[0m | \u001b[0m4.904    \u001b[0m | \u001b[0m8.613    \u001b[0m | \u001b[0m0.04489  \u001b[0m | \u001b[0m357.3    \u001b[0m | \u001b[0m0.7204   \u001b[0m |\n",
      "| \u001b[0m31       \u001b[0m | \u001b[0m-1.177e+0\u001b[0m | \u001b[0m4.918    \u001b[0m | \u001b[0m7.22     \u001b[0m | \u001b[0m0.1233   \u001b[0m | \u001b[0m358.1    \u001b[0m | \u001b[0m0.7906   \u001b[0m |\n",
      "| \u001b[0m32       \u001b[0m | \u001b[0m-1.046e+0\u001b[0m | \u001b[0m5.976    \u001b[0m | \u001b[0m4.733    \u001b[0m | \u001b[0m0.06579  \u001b[0m | \u001b[0m327.7    \u001b[0m | \u001b[0m0.9992   \u001b[0m |\n",
      "| \u001b[0m33       \u001b[0m | \u001b[0m-1.372e+0\u001b[0m | \u001b[0m4.973    \u001b[0m | \u001b[0m1.316    \u001b[0m | \u001b[0m0.1667   \u001b[0m | \u001b[0m212.5    \u001b[0m | \u001b[0m0.6836   \u001b[0m |\n",
      "| \u001b[0m34       \u001b[0m | \u001b[0m-1.033e+0\u001b[0m | \u001b[0m3.701    \u001b[0m | \u001b[0m8.547    \u001b[0m | \u001b[0m0.02549  \u001b[0m | \u001b[0m255.5    \u001b[0m | \u001b[0m0.6791   \u001b[0m |\n",
      "| \u001b[0m35       \u001b[0m | \u001b[0m-1.268e+0\u001b[0m | \u001b[0m4.154    \u001b[0m | \u001b[0m7.044    \u001b[0m | \u001b[0m0.1815   \u001b[0m | \u001b[0m305.2    \u001b[0m | \u001b[0m0.6281   \u001b[0m |\n",
      "| \u001b[0m36       \u001b[0m | \u001b[0m-1.094e+0\u001b[0m | \u001b[0m3.338    \u001b[0m | \u001b[0m4.137    \u001b[0m | \u001b[0m0.02233  \u001b[0m | \u001b[0m343.6    \u001b[0m | \u001b[0m0.6076   \u001b[0m |\n",
      "| \u001b[0m37       \u001b[0m | \u001b[0m-1.268e+0\u001b[0m | \u001b[0m3.424    \u001b[0m | \u001b[0m0.4874   \u001b[0m | \u001b[0m0.02813  \u001b[0m | \u001b[0m374.6    \u001b[0m | \u001b[0m0.9895   \u001b[0m |\n",
      "| \u001b[0m38       \u001b[0m | \u001b[0m-1.3e+06 \u001b[0m | \u001b[0m3.38     \u001b[0m | \u001b[0m1.303    \u001b[0m | \u001b[0m0.09361  \u001b[0m | \u001b[0m262.8    \u001b[0m | \u001b[0m0.9201   \u001b[0m |\n",
      "| \u001b[0m39       \u001b[0m | \u001b[0m-1.204e+0\u001b[0m | \u001b[0m4.537    \u001b[0m | \u001b[0m8.486    \u001b[0m | \u001b[0m0.1669   \u001b[0m | \u001b[0m357.5    \u001b[0m | \u001b[0m0.9568   \u001b[0m |\n",
      "| \u001b[0m40       \u001b[0m | \u001b[0m-1.227e+0\u001b[0m | \u001b[0m4.539    \u001b[0m | \u001b[0m6.527    \u001b[0m | \u001b[0m0.06296  \u001b[0m | \u001b[0m367.7    \u001b[0m | \u001b[0m0.8003   \u001b[0m |\n",
      "| \u001b[0m41       \u001b[0m | \u001b[0m-1.229e+0\u001b[0m | \u001b[0m3.406    \u001b[0m | \u001b[0m8.742    \u001b[0m | \u001b[0m0.1109   \u001b[0m | \u001b[0m273.6    \u001b[0m | \u001b[0m0.9837   \u001b[0m |\n",
      "| \u001b[0m42       \u001b[0m | \u001b[0m-1.19e+06\u001b[0m | \u001b[0m4.547    \u001b[0m | \u001b[0m2.468    \u001b[0m | \u001b[0m0.05312  \u001b[0m | \u001b[0m272.5    \u001b[0m | \u001b[0m0.7965   \u001b[0m |\n",
      "| \u001b[0m43       \u001b[0m | \u001b[0m-1.232e+0\u001b[0m | \u001b[0m2.435    \u001b[0m | \u001b[0m8.813    \u001b[0m | \u001b[0m0.1676   \u001b[0m | \u001b[0m385.1    \u001b[0m | \u001b[0m0.8028   \u001b[0m |\n",
      "| \u001b[0m44       \u001b[0m | \u001b[0m-1.15e+06\u001b[0m | \u001b[0m4.999    \u001b[0m | \u001b[0m7.816    \u001b[0m | \u001b[0m0.05485  \u001b[0m | \u001b[0m359.0    \u001b[0m | \u001b[0m0.8001   \u001b[0m |\n",
      "| \u001b[0m45       \u001b[0m | \u001b[0m-1.29e+06\u001b[0m | \u001b[0m2.735    \u001b[0m | \u001b[0m6.017    \u001b[0m | \u001b[0m0.1734   \u001b[0m | \u001b[0m322.0    \u001b[0m | \u001b[0m0.9606   \u001b[0m |\n",
      "| \u001b[0m46       \u001b[0m | \u001b[0m-1.121e+0\u001b[0m | \u001b[0m4.764    \u001b[0m | \u001b[0m6.65     \u001b[0m | \u001b[0m0.05214  \u001b[0m | \u001b[0m277.3    \u001b[0m | \u001b[0m0.6175   \u001b[0m |\n",
      "| \u001b[0m47       \u001b[0m | \u001b[0m-1.088e+0\u001b[0m | \u001b[0m4.383    \u001b[0m | \u001b[0m7.67     \u001b[0m | \u001b[0m0.0422   \u001b[0m | \u001b[0m352.6    \u001b[0m | \u001b[0m0.8315   \u001b[0m |\n",
      "| \u001b[0m48       \u001b[0m | \u001b[0m-1.11e+06\u001b[0m | \u001b[0m2.545    \u001b[0m | \u001b[0m2.664    \u001b[0m | \u001b[0m0.04583  \u001b[0m | \u001b[0m268.4    \u001b[0m | \u001b[0m0.6512   \u001b[0m |\n",
      "| \u001b[0m49       \u001b[0m | \u001b[0m-1.153e+0\u001b[0m | \u001b[0m6.564    \u001b[0m | \u001b[0m4.127    \u001b[0m | \u001b[0m0.09484  \u001b[0m | \u001b[0m322.8    \u001b[0m | \u001b[0m0.961    \u001b[0m |\n",
      "| \u001b[0m50       \u001b[0m | \u001b[0m-1.162e+0\u001b[0m | \u001b[0m5.404    \u001b[0m | \u001b[0m7.292    \u001b[0m | \u001b[0m0.1268   \u001b[0m | \u001b[0m358.1    \u001b[0m | \u001b[0m0.7954   \u001b[0m |\n",
      "| \u001b[0m51       \u001b[0m | \u001b[0m-1.157e+0\u001b[0m | \u001b[0m4.828    \u001b[0m | \u001b[0m2.391    \u001b[0m | \u001b[0m0.03043  \u001b[0m | \u001b[0m361.6    \u001b[0m | \u001b[0m0.982    \u001b[0m |\n",
      "| \u001b[0m52       \u001b[0m | \u001b[0m-1.133e+0\u001b[0m | \u001b[0m2.354    \u001b[0m | \u001b[0m7.551    \u001b[0m | \u001b[0m0.09267  \u001b[0m | \u001b[0m241.4    \u001b[0m | \u001b[0m0.965    \u001b[0m |\n",
      "=====================================================================================\n"
     ]
    }
   ],
   "source": [
    "pbounds = {\"n_estimators\": (150,400),\n",
    "           \"depth\": (2,7),\n",
    "           \"learning_rate\": (.01, 0.2),\n",
    "           \"subsample\":(0.6, 1.),\n",
    "           \"l2_leaf_reg\":(0,10),\n",
    "}\n",
    "bo = BayesianOptimization(f=cbt_reg, pbounds=pbounds, verbose=2, random_state=42)\n",
    "bo.maximize(init_points=2, n_iter=50, acq='ei', xi=0.01)\n",
    "high_score = bo.max\n",
    "1-cbt_reg(**high_score[\"params\"])"
   ]
  },
  {
   "cell_type": "code",
   "execution_count": null,
   "metadata": {},
   "outputs": [],
   "source": []
  },
  {
   "cell_type": "code",
   "execution_count": null,
   "metadata": {},
   "outputs": [],
   "source": []
  },
  {
   "cell_type": "code",
   "execution_count": null,
   "metadata": {},
   "outputs": [],
   "source": []
  },
  {
   "cell_type": "code",
   "execution_count": null,
   "metadata": {},
   "outputs": [],
   "source": []
  }
 ],
 "metadata": {
  "kernelspec": {
   "display_name": "Python 3.10.6 ('movies')",
   "language": "python",
   "name": "python3"
  },
  "language_info": {
   "codemirror_mode": {
    "name": "ipython",
    "version": 3
   },
   "file_extension": ".py",
   "mimetype": "text/x-python",
   "name": "python",
   "nbconvert_exporter": "python",
   "pygments_lexer": "ipython3",
   "version": "3.10.6"
  },
  "orig_nbformat": 4,
  "vscode": {
   "interpreter": {
    "hash": "a41dc62fbff254c859b6c39725daa88914fa1a56e355f4f0850ddedaa8a6d2c3"
   }
  }
 },
 "nbformat": 4,
 "nbformat_minor": 2
}
